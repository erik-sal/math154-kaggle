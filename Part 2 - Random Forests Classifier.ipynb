{
 "cells": [
  {
   "cell_type": "markdown",
   "metadata": {},
   "source": [
    "This notebook features a random forests classifier. After training KNN and SVM models, we decided to spend the remaining time fitting a random forests model. For this model, we used an iteratively imputed dataset, which performed best in our KNN and SVM models. We'll begin by importing the data and the sklearn packages."
   ]
  },
  {
   "cell_type": "code",
   "execution_count": 153,
   "metadata": {},
   "outputs": [],
   "source": [
    "import numpy as np \n",
    "import pandas as pd\n",
    "\n",
    "from sklearn import svm\n",
    "from sklearn.ensemble import RandomForestClassifier\n",
    "from sklearn.experimental import enable_iterative_imputer\n",
    "from sklearn.impute import IterativeImputer # for iterative imputation\n",
    "from sklearn.model_selection import train_test_split # for splitting the training set into a train and test set.\n",
    "from sklearn.metrics import roc_curve # for finding roc curves for learners\n",
    "from sklearn.metrics import auc # for determining auc for learners\n",
    "import matplotlib.pyplot as plt # for generating plots\n",
    "\n",
    "filename_train = \"./GiveMeSomeCredit/cs-training.csv\"\n",
    "train = pd.read_csv(filename_train, index_col = 0) \n",
    "train.reset_index(drop = True, inplace = True)\n",
    "trainX = train.iloc[:, 1:11]\n",
    "trainy = train.iloc[:,0]"
   ]
  },
  {
   "cell_type": "markdown",
   "metadata": {},
   "source": [
    "Next we will clean the data, following the procedure from our previous models. This time, we will only work with our highest-performing dataset, which was iteratively imputed. To summarize this our process again:\n",
    "\n",
    "We begin with thresholding the outliers in three columns: Number of times Late, Revolving Utilization, and Debt Ratio..."
   ]
  },
  {
   "cell_type": "code",
   "execution_count": 154,
   "metadata": {},
   "outputs": [],
   "source": [
    "train = train[(train[\"NumberOfTime60-89DaysPastDueNotWorse\"] < 96) & (train[\"NumberOfTimes90DaysLate\"] < 96) & (train[\"NumberOfTime30-59DaysPastDueNotWorse\"] < 96)]\n",
    "train = train[train[\"RevolvingUtilizationOfUnsecuredLines\"] <= train[\"RevolvingUtilizationOfUnsecuredLines\"].quantile(0.999)]\n",
    "train = train[train[\"DebtRatio\"] <= train[\"DebtRatio\"].quantile(0.99)]"
   ]
  },
  {
   "cell_type": "markdown",
   "metadata": {},
   "source": [
    "Followed by iteratively imputing values..."
   ]
  },
  {
   "cell_type": "code",
   "execution_count": 155,
   "metadata": {},
   "outputs": [],
   "source": [
    "train.reset_index(drop = True, inplace = True)\n",
    "trainX = train.iloc[:, 1:11]\n",
    "trainy = train.iloc[:,0]\n",
    "\n",
    "imp_mean = IterativeImputer(random_state=0) # use iterative imputer to fill missing values\n",
    "imp_mean.fit(trainX)\n",
    "train = pd.DataFrame(imp_mean.transform(trainX))"
   ]
  },
  {
   "cell_type": "markdown",
   "metadata": {},
   "source": [
    "And standardizing the values for each attribute."
   ]
  },
  {
   "cell_type": "code",
   "execution_count": 156,
   "metadata": {},
   "outputs": [
    {
     "data": {
      "text/plain": [
       "(147869, 10)"
      ]
     },
     "execution_count": 156,
     "metadata": {},
     "output_type": "execute_result"
    }
   ],
   "source": [
    "trainy = trainy[train[9] >= 0]\n",
    "train = train[train[9] >= 0]\n",
    "train.reset_index(drop = True, inplace = True)\n",
    "\n",
    "trainX = train\n",
    "trainy = trainy\n",
    "trainX = (trainX - trainX.mean())/trainX.std()\n",
    "\n",
    "trainX.shape"
   ]
  },
  {
   "cell_type": "markdown",
   "metadata": {},
   "source": [
    "We will now fit a Random Forests classifier using Scikit-Learn's builtin library. To illustrate how the model scales with forest size, we will use forests of size 10, 50, 100, and 200 trees.\n",
    "\n",
    "Similar to our other models, we perform an 80:20 split for testing and training data. Bootstrapping is used during the fitting process to generate training data."
   ]
  },
  {
   "cell_type": "code",
   "execution_count": 177,
   "metadata": {
    "scrolled": true
   },
   "outputs": [],
   "source": [
    "forests = [10,50,100,200]\n",
    "ROCs = []  # Holds the ROC curves for plotting later\n",
    "\n",
    "for N in forests:\n",
    "    # Fit the model for N trees\n",
    "    trainX1, trainX2, trainy1, trainy2 = train_test_split(trainX, trainy, test_size=0.2)\n",
    "    clf = RandomForestClassifier(n_estimators=N, max_depth=None,min_samples_split=2)\n",
    "    clf.fit(trainX1,trainy1)\n",
    "    \n",
    "    # Score the model and record the information for the ROC curve\n",
    "    y_scores = clf.predict_proba(trainX2)\n",
    "    fpr, tpr, threshold = roc_curve(trainy2, y_scores[:, 1])\n",
    "    roc_auc = auc(fpr, tpr)\n",
    "    \n",
    "    ROCs.append((fpr,tpr,roc_auc))"
   ]
  },
  {
   "cell_type": "markdown",
   "metadata": {},
   "source": [
    "Below are the ROC curves for each of our models:"
   ]
  },
  {
   "cell_type": "code",
   "execution_count": 176,
   "metadata": {},
   "outputs": [
    {
     "name": "stderr",
     "output_type": "stream",
     "text": [
      "No handles with labels found to put in legend.\n"
     ]
    },
    {
     "ename": "IndexError",
     "evalue": "list index out of range",
     "output_type": "error",
     "traceback": [
      "\u001b[1;31m---------------------------------------------------------------------------\u001b[0m",
      "\u001b[1;31mIndexError\u001b[0m                                Traceback (most recent call last)",
      "\u001b[1;32m<ipython-input-176-b515a1e9527e>\u001b[0m in \u001b[0;36m<module>\u001b[1;34m\u001b[0m\n\u001b[0;32m     10\u001b[0m \u001b[0mplt\u001b[0m\u001b[1;33m.\u001b[0m\u001b[0mtitle\u001b[0m\u001b[1;33m(\u001b[0m\u001b[1;34m'ROC Curve of Random Forests'\u001b[0m\u001b[1;33m)\u001b[0m\u001b[1;33m\u001b[0m\u001b[1;33m\u001b[0m\u001b[0m\n\u001b[0;32m     11\u001b[0m \u001b[1;33m\u001b[0m\u001b[0m\n\u001b[1;32m---> 12\u001b[1;33m \u001b[0mplt\u001b[0m\u001b[1;33m.\u001b[0m\u001b[0mplot\u001b[0m\u001b[1;33m(\u001b[0m\u001b[0mROCs\u001b[0m\u001b[1;33m[\u001b[0m\u001b[1;36m3\u001b[0m\u001b[1;33m]\u001b[0m\u001b[1;33m[\u001b[0m\u001b[1;36m0\u001b[0m\u001b[1;33m]\u001b[0m\u001b[1;33m,\u001b[0m \u001b[0mROCs\u001b[0m\u001b[1;33m[\u001b[0m\u001b[1;36m3\u001b[0m\u001b[1;33m]\u001b[0m\u001b[1;33m[\u001b[0m\u001b[1;36m1\u001b[0m\u001b[1;33m]\u001b[0m\u001b[1;33m,\u001b[0m \u001b[0mlabel\u001b[0m \u001b[1;33m=\u001b[0m \u001b[1;34m'AUC = %0.2f'\u001b[0m \u001b[1;33m%\u001b[0m \u001b[0mROCs\u001b[0m\u001b[1;33m[\u001b[0m\u001b[1;36m3\u001b[0m\u001b[1;33m]\u001b[0m\u001b[1;33m[\u001b[0m\u001b[1;36m2\u001b[0m\u001b[1;33m]\u001b[0m\u001b[1;33m)\u001b[0m\u001b[1;33m\u001b[0m\u001b[1;33m\u001b[0m\u001b[0m\n\u001b[0m\u001b[0;32m     13\u001b[0m \u001b[1;33m\u001b[0m\u001b[0m\n\u001b[0;32m     14\u001b[0m \u001b[0mplt\u001b[0m\u001b[1;33m.\u001b[0m\u001b[0mshow\u001b[0m\u001b[1;33m(\u001b[0m\u001b[1;33m)\u001b[0m\u001b[1;33m\u001b[0m\u001b[1;33m\u001b[0m\u001b[0m\n",
      "\u001b[1;31mIndexError\u001b[0m: list index out of range"
     ]
    },
    {
     "data": {
      "image/png": "[encoded data removed]",
      "text/plain": [
       "<Figure size 432x288 with 1 Axes>"
      ]
     },
     "metadata": {
      "needs_background": "light"
     },
     "output_type": "display_data"
    }
   ],
   "source": [
    "import matplotlib.patches as mpatches  # for color-coding results\n",
    "\n",
    "plt.title('Receiver Operating Characteristic')\n",
    "plt.legend(loc = 'lower right')\n",
    "plt.plot([0, 1], [0, 1],'r--')\n",
    "plt.xlim([0, 1])\n",
    "plt.ylim([0, 1])\n",
    "plt.ylabel('True Positive Rate')\n",
    "plt.xlabel('False Positive Rate')\n",
    "plt.title('ROC Curve of Random Forests')\n",
    "\n",
    "plt.plot(ROCs[3][0], ROCs[3][1], label = 'AUC = %0.2f' % ROCs[3][2])\n",
    "\n",
    "plt.show()"
   ]
  },
  {
   "cell_type": "code",
   "execution_count": 193,
   "metadata": {},
   "outputs": [
    {
     "name": "stderr",
     "output_type": "stream",
     "text": [
      "No handles with labels found to put in legend.\n"
     ]
    },
    {
     "data": {
      "image/png": "[encoded data removed]",
      "text/plain": [
       "<Figure size 432x288 with 1 Axes>"
      ]
     },
     "metadata": {
      "needs_background": "light"
     },
     "output_type": "display_data"
    },
    {
     "name": "stdout",
     "output_type": "stream",
     "text": [
      "AUCs per N\n"
     ]
    },
    {
     "data": {
      "text/plain": [
       "[(10, 0.7817302015884697),\n",
       " (50, 0.8369071138098975),\n",
       " (100, 0.8387068042024962),\n",
       " (200, 0.8457949269341675)]"
      ]
     },
     "execution_count": 193,
     "metadata": {},
     "output_type": "execute_result"
    }
   ],
   "source": [
    "plt.title('Receiver Operating Characteristic')\n",
    "plt.legend(loc = 'lower right')\n",
    "plt.plot([0, 1], [0, 1],'r--')\n",
    "plt.xlim([0, 1])\n",
    "plt.ylim([0, 1])\n",
    "plt.ylabel('True Positive Rate')\n",
    "plt.xlabel('False Positive Rate')\n",
    "plt.title('ROC Curve of Random Forests')\n",
    "\n",
    "for i in range(len(ROCs)):\n",
    "    plt.plot(ROCs[i][0], ROCs[i][1], c=line_colors[i], label = 'AUC = %0.2f' % ROCs[i][2])\n",
    "\n",
    "line_colors = ['r','g','b','y']\n",
    "pop_a = mpatches.Patch(color='r', label='N = 10')\n",
    "pop_b = mpatches.Patch(color='g', label='N = 50')\n",
    "pop_c = mpatches.Patch(color='b', label='N = 100')\n",
    "pop_d = mpatches.Patch(color='y', label='N = 200')\n",
    "\n",
    "plt.legend(handles=[pop_a,pop_b,pop_c,pop_d])\n",
    "\n",
    "plt.show()\n",
    "\n",
    "AUCs = [(forests[i],ROCs[i][2]) for i in range(len(ROCs))]\n",
    "\n",
    "print(\"AUCs per N\")\n",
    "AUCs"
   ]
  },
  {
   "cell_type": "markdown",
   "metadata": {},
   "source": [
    "The model appears to approach an AUC of .85 (running some more long simulations with n>1000 supports this). Quite good, our best yet. Are we overfitting though? Let's see how the RF model performs on Kaggle's test dataset. We will use a forest of size n=200,\n",
    "set the minimum samples per split to be 2, and leave the maximum depth undetermined. Bootstrapping will be used during the fitting process."
   ]
  },
  {
   "cell_type": "code",
   "execution_count": 172,
   "metadata": {
    "scrolled": true
   },
   "outputs": [],
   "source": [
    "filename_test = \"./GiveMeSomeCredit/cs-test.csv\"\n",
    "testX = pd.read_csv(filename_test, index_col = 0) \n",
    "\n",
    "testX = testX.iloc[:, 1:]\n",
    "\n",
    "testXf1 = pd.DataFrame(imp_mean.transform(testX))\n",
    "\n",
    "testXf1 = (testXf1 - testXf1.mean())/testXf1.std()\n",
    "testXf2 = (testXf2 - testXf2.mean())/testXf2.std()\n",
    "\n",
    "trainX1, trainX2, trainy1, trainy2 = train_test_split(trainX, trainy, test_size=0.2)\n",
    "clf = RandomForestClassifier(n_estimators=200, max_depth=None,min_samples_split=2, max_leaf_nodes=10, min_samples_leaf=50,n_jobs=-1)\n",
    "clf.fit(trainX1, trainy1)\n",
    "\n",
    "y_iterative = clf.predict_proba(testXf1)\n",
    "y_iterative = pd.DataFrame(y_iterative)\n",
    "y_iterative = y_iterative.iloc[:,1]\n",
    "y_iterative"
   ]
  },
  {
   "cell_type": "markdown",
   "metadata": {},
   "source": [
    "Kaggle gives us an AUC of .639. Definitely not as well as our training set, and marginally better than KNN. However, random forests has many hyperparameters beyond our original settings, including inheriting many of the parameters of decision trees. Some of these include:\n",
    "- Maximum number of terminal nodes\n",
    "- Minimum number of samples per leaf\n",
    "- Maximum number of samples\n",
    "- Maximum number of features\n",
    "With some tweaking, we can beef up the predictive power of our model. Here's what we got with some fiddling:\n",
    "\n",
    "Minimum samples/leaf = 25 --> .655\n",
    "\n",
    "Minimum samples/leaf = 50 --> .685\n",
    "\n",
    "Maximum terminal nodes = 10 --> AUC .748\n",
    "\n",
    "Maximum terminal nodes = 10 AND Minimum samples/leaf = 50 --> AUC = .73\n",
    "\n",
    "By setting the minimum samples/leaf, we can control the growth of the tree. When trees have too few samples, we run the risk of overfitting the data. This is likely our situation, since CV gave us pretty good results when we were working with the training data.\n",
    "\n",
    "Setting the maximum number of terminal nodes also provides another means for controlling the growth of the tree. A tree will stop splitting if the number of child nodes is larger than this value. If this value is too small, we run the risk of underfitting. \n",
    "\n",
    "With some more time, we would generate graphs for all of these hyperparamaters. For now, guess-and-check will have to do. It's clear there's a delicate balance here - tweaking these two parameters individual enhanced the model, but the combination of them wasn't optimal."
   ]
  }
 ],
 "metadata": {
  "kernelspec": {
   "display_name": "Python 3",
   "language": "python",
   "name": "python3"
  },
  "language_info": {
   "codemirror_mode": {
    "name": "ipython",
    "version": 3
   },
   "file_extension": ".py",
   "mimetype": "text/x-python",
   "name": "python",
   "nbconvert_exporter": "python",
   "pygments_lexer": "ipython3",
   "version": "3.8.5"
  }
 },
 "nbformat": 4,
 "nbformat_minor": 4
}
