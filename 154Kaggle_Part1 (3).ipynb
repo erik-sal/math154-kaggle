{
 "cells": [
  {
   "cell_type": "markdown",
   "metadata": {
    "id": "Yi2-KxRY5Vvc"
   },
   "source": [
    "**Math 154 Kaggle Project: Marcel, Nick, Erik, and J.J.**\n",
    "\n"
   ]
  },
  {
   "cell_type": "markdown",
   "metadata": {
    "id": "8YfWg1ev5qAc"
   },
   "source": [
    "In this notebook, we'll walk through the first part of our Kaggle Group Project. We'll first give a description of the problem, then proceed to a discussion of data exploration, and a few of the algorithms that we tried. "
   ]
  },
  {
   "cell_type": "markdown",
   "metadata": {
    "id": "XJJSd-YT55gg"
   },
   "source": [
    "**The Problem**"
   ]
  },
  {
   "cell_type": "markdown",
   "metadata": {
    "id": "x_SrC7To5-8l"
   },
   "source": [
    "Our task is to try to predict whether an individual will experience financial distress in the next two years, given several pieces of information about the individual, namely:\n",
    "\n",
    "1.  Revolving Utilization of Unsecured Lines: The individual's total balance on credit cards and personal lines of credit divided by the sum of the individual's credit limits. \n",
    "2.  Age\n",
    "3. Number of times the borrower has been 30-59 days past due (but no worse) in the past 2 years.\n",
    "4. Debt Ratio: Monthly debt payments divided by monthly gross income.\n",
    "5. Monthly Income\n",
    "6. Number of Open Credit Lines and Loans\n",
    "7. Number of times the borrower has been 90 days or more past due in the last two years.\n",
    "8. Number of Real Estate Loans or Lines\n",
    "9. Number of times the borrower has been 60-89 days past due (but no worse) in the past 2 years.\n",
    "10. Number of dependents in the individual's family (excluding themselves)\n",
    "\n"
   ]
  },
  {
   "cell_type": "markdown",
   "metadata": {
    "id": "hzXTPlpe8mB_"
   },
   "source": [
    "Note the numbers of these features, for we'll refer to these features by number throughout the paper, for the sake of brevity."
   ]
  },
  {
   "cell_type": "markdown",
   "metadata": {
    "id": "iTptYoSR7ZTG"
   },
   "source": [
    "This is a classification problem. We are given a training set of 150,000 obervations to develop our models, and a testing set of 100,000 observations by which the model will be judged, using the metric of area under the curve (AUC). "
   ]
  },
  {
   "cell_type": "markdown",
   "metadata": {
    "id": "oHo5E3z-7tJm"
   },
   "source": [
    "**Data Exploration**"
   ]
  },
  {
   "cell_type": "markdown",
   "metadata": {
    "id": "a0OseGMEHFV5"
   },
   "source": [
    "First, import some necessary packages."
   ]
  },
  {
   "cell_type": "code",
   "execution_count": 56,
   "metadata": {
    "id": "95AOf1OwHDCG"
   },
   "outputs": [],
   "source": [
    "import numpy as np \n",
    "import pandas as pd\n",
    "\n",
    "from sklearn import svm\n",
    "from sklearn.neighbors import KNeighborsClassifier\n",
    "import io \n",
    "from sklearn.experimental import enable_iterative_imputer\n",
    "from sklearn.impute import IterativeImputer # for iterative imputation\n",
    "from sklearn.model_selection import train_test_split # for splitting the training set into a train and test set.\n",
    "from sklearn.metrics import roc_curve # for finding roc curves for learners\n",
    "from sklearn.metrics import auc # for determining auc for learners\n",
    "import matplotlib.pyplot as plt # for generating plots"
   ]
  },
  {
   "cell_type": "markdown",
   "metadata": {
    "id": "4AKlXoNoIdl0"
   },
   "source": [
    "Read in the train and test sets for the problem, and generate some descriptive statistics for the training set.\n",
    "\n",
    "\n",
    "\n"
   ]
  },
  {
   "cell_type": "code",
   "execution_count": 57,
   "metadata": {
    "colab": {
     "base_uri": "https://localhost:8080/",
     "height": 72,
     "resources": {
      "http://localhost:8080/nbextensions/google.colab/files.js": {
       "data": "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",
       "headers": [
        [
         "content-type",
         "application/javascript"
        ]
       ],
       "ok": true,
       "status": 200,
       "status_text": ""
      }
     }
    },
    "id": "DupSsoIN2VZr",
    "outputId": "a7237e8b-3a29-40b6-af74-0a70464cc032"
   },
   "outputs": [],
   "source": [
    "filename_train = \"./GiveMeSomeCredit/cs-training.csv\"\n",
    "train = pd.read_csv(filename_train, index_col = 0) "
   ]
  },
  {
   "cell_type": "code",
   "execution_count": 59,
   "metadata": {
    "id": "vqDPOYWfI6CI"
   },
   "outputs": [],
   "source": [
    "trainX = train.iloc[:, 1:11]\n",
    "trainy = train.iloc[:,0]\n",
    "filename_test = \"./GiveMeSomeCredit/cs-test.csv\"\n",
    "testX = pd.read_csv(filename_test, index_col = 0) "
   ]
  },
  {
   "cell_type": "code",
   "execution_count": 60,
   "metadata": {
    "colab": {
     "base_uri": "https://localhost:8080/",
     "height": 334
    },
    "id": "mPYvdJ0mf0du",
    "outputId": "dda8baf6-52b0-46d0-9cc9-9f005c165fab"
   },
   "outputs": [
    {
     "data": {
      "text/html": [
       "<div>\n",
       "<style scoped>\n",
       "    .dataframe tbody tr th:only-of-type {\n",
       "        vertical-align: middle;\n",
       "    }\n",
       "\n",
       "    .dataframe tbody tr th {\n",
       "        vertical-align: top;\n",
       "    }\n",
       "\n",
       "    .dataframe thead th {\n",
       "        text-align: right;\n",
       "    }\n",
       "</style>\n",
       "<table border=\"1\" class=\"dataframe\">\n",
       "  <thead>\n",
       "    <tr style=\"text-align: right;\">\n",
       "      <th></th>\n",
       "      <th>RevolvingUtilizationOfUnsecuredLines</th>\n",
       "      <th>age</th>\n",
       "      <th>NumberOfTime30-59DaysPastDueNotWorse</th>\n",
       "      <th>DebtRatio</th>\n",
       "      <th>MonthlyIncome</th>\n",
       "      <th>NumberOfOpenCreditLinesAndLoans</th>\n",
       "      <th>NumberOfTimes90DaysLate</th>\n",
       "      <th>NumberRealEstateLoansOrLines</th>\n",
       "      <th>NumberOfTime60-89DaysPastDueNotWorse</th>\n",
       "      <th>NumberOfDependents</th>\n",
       "    </tr>\n",
       "  </thead>\n",
       "  <tbody>\n",
       "    <tr>\n",
       "      <th>count</th>\n",
       "      <td>150000.000000</td>\n",
       "      <td>150000.000000</td>\n",
       "      <td>150000.000000</td>\n",
       "      <td>150000.000000</td>\n",
       "      <td>1.202690e+05</td>\n",
       "      <td>150000.000000</td>\n",
       "      <td>150000.000000</td>\n",
       "      <td>150000.000000</td>\n",
       "      <td>150000.000000</td>\n",
       "      <td>146076.000000</td>\n",
       "    </tr>\n",
       "    <tr>\n",
       "      <th>mean</th>\n",
       "      <td>6.048438</td>\n",
       "      <td>52.295207</td>\n",
       "      <td>0.421033</td>\n",
       "      <td>353.005076</td>\n",
       "      <td>6.670221e+03</td>\n",
       "      <td>8.452760</td>\n",
       "      <td>0.265973</td>\n",
       "      <td>1.018240</td>\n",
       "      <td>0.240387</td>\n",
       "      <td>0.757222</td>\n",
       "    </tr>\n",
       "    <tr>\n",
       "      <th>std</th>\n",
       "      <td>249.755371</td>\n",
       "      <td>14.771866</td>\n",
       "      <td>4.192781</td>\n",
       "      <td>2037.818523</td>\n",
       "      <td>1.438467e+04</td>\n",
       "      <td>5.145951</td>\n",
       "      <td>4.169304</td>\n",
       "      <td>1.129771</td>\n",
       "      <td>4.155179</td>\n",
       "      <td>1.115086</td>\n",
       "    </tr>\n",
       "    <tr>\n",
       "      <th>min</th>\n",
       "      <td>0.000000</td>\n",
       "      <td>0.000000</td>\n",
       "      <td>0.000000</td>\n",
       "      <td>0.000000</td>\n",
       "      <td>0.000000e+00</td>\n",
       "      <td>0.000000</td>\n",
       "      <td>0.000000</td>\n",
       "      <td>0.000000</td>\n",
       "      <td>0.000000</td>\n",
       "      <td>0.000000</td>\n",
       "    </tr>\n",
       "    <tr>\n",
       "      <th>25%</th>\n",
       "      <td>0.029867</td>\n",
       "      <td>41.000000</td>\n",
       "      <td>0.000000</td>\n",
       "      <td>0.175074</td>\n",
       "      <td>3.400000e+03</td>\n",
       "      <td>5.000000</td>\n",
       "      <td>0.000000</td>\n",
       "      <td>0.000000</td>\n",
       "      <td>0.000000</td>\n",
       "      <td>0.000000</td>\n",
       "    </tr>\n",
       "    <tr>\n",
       "      <th>50%</th>\n",
       "      <td>0.154181</td>\n",
       "      <td>52.000000</td>\n",
       "      <td>0.000000</td>\n",
       "      <td>0.366508</td>\n",
       "      <td>5.400000e+03</td>\n",
       "      <td>8.000000</td>\n",
       "      <td>0.000000</td>\n",
       "      <td>1.000000</td>\n",
       "      <td>0.000000</td>\n",
       "      <td>0.000000</td>\n",
       "    </tr>\n",
       "    <tr>\n",
       "      <th>75%</th>\n",
       "      <td>0.559046</td>\n",
       "      <td>63.000000</td>\n",
       "      <td>0.000000</td>\n",
       "      <td>0.868254</td>\n",
       "      <td>8.249000e+03</td>\n",
       "      <td>11.000000</td>\n",
       "      <td>0.000000</td>\n",
       "      <td>2.000000</td>\n",
       "      <td>0.000000</td>\n",
       "      <td>1.000000</td>\n",
       "    </tr>\n",
       "    <tr>\n",
       "      <th>max</th>\n",
       "      <td>50708.000000</td>\n",
       "      <td>109.000000</td>\n",
       "      <td>98.000000</td>\n",
       "      <td>329664.000000</td>\n",
       "      <td>3.008750e+06</td>\n",
       "      <td>58.000000</td>\n",
       "      <td>98.000000</td>\n",
       "      <td>54.000000</td>\n",
       "      <td>98.000000</td>\n",
       "      <td>20.000000</td>\n",
       "    </tr>\n",
       "  </tbody>\n",
       "</table>\n",
       "</div>"
      ],
      "text/plain": [
       "       RevolvingUtilizationOfUnsecuredLines            age  \\\n",
       "count                         150000.000000  150000.000000   \n",
       "mean                               6.048438      52.295207   \n",
       "std                              249.755371      14.771866   \n",
       "min                                0.000000       0.000000   \n",
       "25%                                0.029867      41.000000   \n",
       "50%                                0.154181      52.000000   \n",
       "75%                                0.559046      63.000000   \n",
       "max                            50708.000000     109.000000   \n",
       "\n",
       "       NumberOfTime30-59DaysPastDueNotWorse      DebtRatio  MonthlyIncome  \\\n",
       "count                         150000.000000  150000.000000   1.202690e+05   \n",
       "mean                               0.421033     353.005076   6.670221e+03   \n",
       "std                                4.192781    2037.818523   1.438467e+04   \n",
       "min                                0.000000       0.000000   0.000000e+00   \n",
       "25%                                0.000000       0.175074   3.400000e+03   \n",
       "50%                                0.000000       0.366508   5.400000e+03   \n",
       "75%                                0.000000       0.868254   8.249000e+03   \n",
       "max                               98.000000  329664.000000   3.008750e+06   \n",
       "\n",
       "       NumberOfOpenCreditLinesAndLoans  NumberOfTimes90DaysLate  \\\n",
       "count                    150000.000000            150000.000000   \n",
       "mean                          8.452760                 0.265973   \n",
       "std                           5.145951                 4.169304   \n",
       "min                           0.000000                 0.000000   \n",
       "25%                           5.000000                 0.000000   \n",
       "50%                           8.000000                 0.000000   \n",
       "75%                          11.000000                 0.000000   \n",
       "max                          58.000000                98.000000   \n",
       "\n",
       "       NumberRealEstateLoansOrLines  NumberOfTime60-89DaysPastDueNotWorse  \\\n",
       "count                 150000.000000                         150000.000000   \n",
       "mean                       1.018240                              0.240387   \n",
       "std                        1.129771                              4.155179   \n",
       "min                        0.000000                              0.000000   \n",
       "25%                        0.000000                              0.000000   \n",
       "50%                        1.000000                              0.000000   \n",
       "75%                        2.000000                              0.000000   \n",
       "max                       54.000000                             98.000000   \n",
       "\n",
       "       NumberOfDependents  \n",
       "count       146076.000000  \n",
       "mean             0.757222  \n",
       "std              1.115086  \n",
       "min              0.000000  \n",
       "25%              0.000000  \n",
       "50%              0.000000  \n",
       "75%              1.000000  \n",
       "max             20.000000  "
      ]
     },
     "execution_count": 60,
     "metadata": {},
     "output_type": "execute_result"
    }
   ],
   "source": [
    "trainX.describe()"
   ]
  },
  {
   "cell_type": "markdown",
   "metadata": {
    "id": "WxDugKyO8rwx"
   },
   "source": [
    "At first glance, there appear to be some pretty egregious values within the dataset, especially, when looking at the maximum values of features 1, 3, 4, 7, and 9, and in particular, the standard deviations for features 1 and 4 These variables in particular will merit further examination. We also see that there are several NA values within the dataset, too, for variables 5 and 9. "
   ]
  },
  {
   "cell_type": "code",
   "execution_count": 61,
   "metadata": {
    "colab": {
     "base_uri": "https://localhost:8080/"
    },
    "id": "oKGW44OH9vJL",
    "outputId": "bea5ef18-1664-4556-8c48-e737dd8e1788"
   },
   "outputs": [
    {
     "data": {
      "text/plain": [
       "RevolvingUtilizationOfUnsecuredLines        0\n",
       "age                                         0\n",
       "NumberOfTime30-59DaysPastDueNotWorse        0\n",
       "DebtRatio                                   0\n",
       "MonthlyIncome                           29731\n",
       "NumberOfOpenCreditLinesAndLoans             0\n",
       "NumberOfTimes90DaysLate                     0\n",
       "NumberRealEstateLoansOrLines                0\n",
       "NumberOfTime60-89DaysPastDueNotWorse        0\n",
       "NumberOfDependents                       3924\n",
       "dtype: int64"
      ]
     },
     "execution_count": 61,
     "metadata": {},
     "output_type": "execute_result"
    }
   ],
   "source": [
    "trainX.isna().sum()"
   ]
  },
  {
   "cell_type": "markdown",
   "metadata": {
    "id": "3-6wK8AZHB4m"
   },
   "source": [
    "We can also see that all the observations where NumberofDependents is NA also have NA values for MonthlyIncome."
   ]
  },
  {
   "cell_type": "code",
   "execution_count": 62,
   "metadata": {
    "colab": {
     "base_uri": "https://localhost:8080/"
    },
    "id": "L4pUNPcwHDju",
    "outputId": "dddf5942-cbc5-4d79-f02a-07fe480cb78d"
   },
   "outputs": [
    {
     "data": {
      "text/plain": [
       "RevolvingUtilizationOfUnsecuredLines       0\n",
       "age                                        0\n",
       "NumberOfTime30-59DaysPastDueNotWorse       0\n",
       "DebtRatio                                  0\n",
       "MonthlyIncome                           3924\n",
       "NumberOfOpenCreditLinesAndLoans            0\n",
       "NumberOfTimes90DaysLate                    0\n",
       "NumberRealEstateLoansOrLines               0\n",
       "NumberOfTime60-89DaysPastDueNotWorse       0\n",
       "NumberOfDependents                      3924\n",
       "dtype: int64"
      ]
     },
     "execution_count": 62,
     "metadata": {},
     "output_type": "execute_result"
    }
   ],
   "source": [
    "trainX[(trainX[\"NumberOfDependents\"].isnull() == True)].isna().sum()"
   ]
  },
  {
   "cell_type": "markdown",
   "metadata": {
    "id": "4Jlyi1Pj920W"
   },
   "source": [
    "We'll have to address both of these problems, outliers and missing values. Let's tackle the former one first, taking a look at values for age:"
   ]
  },
  {
   "cell_type": "code",
   "execution_count": 63,
   "metadata": {
    "colab": {
     "base_uri": "https://localhost:8080/",
     "height": 282
    },
    "id": "PTgnzeGq9bjy",
    "outputId": "7f9344b0-3b7d-423e-a709-437951dde154"
   },
   "outputs": [
    {
     "data": {
      "text/plain": [
       "<AxesSubplot:>"
      ]
     },
     "execution_count": 63,
     "metadata": {},
     "output_type": "execute_result"
    },
    {
     "data": {
      "image/png": "[encoded data removed]",
      "text/plain": [
       "<Figure size 432x288 with 1 Axes>"
      ]
     },
     "metadata": {
      "needs_background": "light"
     },
     "output_type": "display_data"
    }
   ],
   "source": [
    "train[\"age\"].hist(bins = 50)"
   ]
  },
  {
   "cell_type": "markdown",
   "metadata": {
    "id": "dQucinaY_JTE"
   },
   "source": [
    "Looks like a pretty healthy normal distribution. When we look at the density functions of age by value of the response variable we can also see that the distributions make sense, although it's interesting to note that borrowers who experienced distress seem to run younger than those who don't."
   ]
  },
  {
   "cell_type": "code",
   "execution_count": 64,
   "metadata": {
    "colab": {
     "base_uri": "https://localhost:8080/",
     "height": 282
    },
    "id": "jxeDGB6L-n69",
    "outputId": "4824ec77-8337-4532-9321-5ac9041ed328"
   },
   "outputs": [
    {
     "data": {
      "text/plain": [
       "<matplotlib.legend.Legend at 0x264d28ac700>"
      ]
     },
     "execution_count": 64,
     "metadata": {},
     "output_type": "execute_result"
    },
    {
     "data": {
      "image/png": "[encoded data removed]",
      "text/plain": [
       "<Figure size 432x288 with 1 Axes>"
      ]
     },
     "metadata": {
      "needs_background": "light"
     },
     "output_type": "display_data"
    }
   ],
   "source": [
    "train[train[\"SeriousDlqin2yrs\"] == 1][\"age\"].plot.density(label = '1')\n",
    "train[train[\"SeriousDlqin2yrs\"] == 0][\"age\"].plot.density(label = '0')\n",
    "plt.legend()"
   ]
  },
  {
   "cell_type": "markdown",
   "metadata": {
    "id": "9-h40OXyD3Dk"
   },
   "source": [
    "Let's do a similar thing for variables 6, 8, and 10 of the dataset:"
   ]
  },
  {
   "cell_type": "code",
   "execution_count": 65,
   "metadata": {
    "colab": {
     "base_uri": "https://localhost:8080/",
     "height": 282
    },
    "id": "gED4K_ISD-MV",
    "outputId": "17d86a04-82e3-43d0-b0a2-17244560d1fd"
   },
   "outputs": [
    {
     "data": {
      "text/plain": [
       "<matplotlib.legend.Legend at 0x264d28ccac0>"
      ]
     },
     "execution_count": 65,
     "metadata": {},
     "output_type": "execute_result"
    },
    {
     "data": {
      "image/png": "[encoded data removed]",
      "text/plain": [
       "<Figure size 432x288 with 1 Axes>"
      ]
     },
     "metadata": {
      "needs_background": "light"
     },
     "output_type": "display_data"
    }
   ],
   "source": [
    "train[train[\"SeriousDlqin2yrs\"] == 1][\"NumberOfOpenCreditLinesAndLoans\"].plot.density(label = '1') # density plots for variable 6\n",
    "train[train[\"SeriousDlqin2yrs\"] == 0][\"NumberOfOpenCreditLinesAndLoans\"].plot.density(label = '0')\n",
    "plt.legend()"
   ]
  },
  {
   "cell_type": "code",
   "execution_count": 66,
   "metadata": {
    "colab": {
     "base_uri": "https://localhost:8080/",
     "height": 282
    },
    "id": "ofOFACbzEqZE",
    "outputId": "2fed01c4-4515-47ea-ca49-06a069a7508c"
   },
   "outputs": [
    {
     "data": {
      "text/plain": [
       "<matplotlib.legend.Legend at 0x264d2902f10>"
      ]
     },
     "execution_count": 66,
     "metadata": {},
     "output_type": "execute_result"
    },
    {
     "data": {
      "image/png": "[encoded data removed]",
      "text/plain": [
       "<Figure size 432x288 with 1 Axes>"
      ]
     },
     "metadata": {
      "needs_background": "light"
     },
     "output_type": "display_data"
    }
   ],
   "source": [
    "train[train[\"SeriousDlqin2yrs\"] == 1][\"NumberRealEstateLoansOrLines\"].hist(density = 1, alpha=.70, label = '1') # density plots for variable 8\n",
    "train[train[\"SeriousDlqin2yrs\"] == 0][\"NumberRealEstateLoansOrLines\"].hist(density = 1, alpha=.70, label = '0') \n",
    "plt.legend()"
   ]
  },
  {
   "cell_type": "code",
   "execution_count": 67,
   "metadata": {
    "colab": {
     "base_uri": "https://localhost:8080/",
     "height": 282
    },
    "id": "e7OTB9sEFyCV",
    "outputId": "b78602f2-738c-455c-e6df-004d92c84519"
   },
   "outputs": [
    {
     "data": {
      "text/plain": [
       "<matplotlib.legend.Legend at 0x264d2b6b250>"
      ]
     },
     "execution_count": 67,
     "metadata": {},
     "output_type": "execute_result"
    },
    {
     "data": {
      "image/png": "[encoded data removed]",
      "text/plain": [
       "<Figure size 432x288 with 1 Axes>"
      ]
     },
     "metadata": {
      "needs_background": "light"
     },
     "output_type": "display_data"
    }
   ],
   "source": [
    "train[train[\"SeriousDlqin2yrs\"] == 1][\"NumberOfDependents\"].hist(density = 1, alpha=.70, label = '1') # density plots for variable 8\n",
    "train[train[\"SeriousDlqin2yrs\"] == 0][\"NumberOfDependents\"].hist(density = 1, alpha=.70, label = '0')\n",
    "plt.legend()"
   ]
  },
  {
   "cell_type": "markdown",
   "metadata": {
    "id": "Er5hx9FGGkVa"
   },
   "source": [
    "The plots for individuals with negative response variables seem to have higher densities at higher values than those for individuals with positive response variables, for variables 8 and 10. But overall, the takeaway is that there do not seem to be any irregularities in the distributions for these variables."
   ]
  },
  {
   "cell_type": "markdown",
   "metadata": {
    "id": "YkLkN2krHQWe"
   },
   "source": [
    "Now let's examine the distributions for variables 3, 7 and 9, which seem to be quite similar:"
   ]
  },
  {
   "cell_type": "code",
   "execution_count": 68,
   "metadata": {
    "colab": {
     "base_uri": "https://localhost:8080/",
     "height": 545
    },
    "id": "ip8uSARmHh3v",
    "outputId": "e692a06a-8114-4734-eadc-9601ec736170"
   },
   "outputs": [
    {
     "data": {
      "text/html": [
       "<div>\n",
       "<style scoped>\n",
       "    .dataframe tbody tr th:only-of-type {\n",
       "        vertical-align: middle;\n",
       "    }\n",
       "\n",
       "    .dataframe tbody tr th {\n",
       "        vertical-align: top;\n",
       "    }\n",
       "\n",
       "    .dataframe thead th {\n",
       "        text-align: right;\n",
       "    }\n",
       "</style>\n",
       "<table border=\"1\" class=\"dataframe\">\n",
       "  <thead>\n",
       "    <tr style=\"text-align: right;\">\n",
       "      <th></th>\n",
       "      <th>NumberOfTime30-59DaysPastDueNotWorse</th>\n",
       "    </tr>\n",
       "  </thead>\n",
       "  <tbody>\n",
       "    <tr>\n",
       "      <th>0</th>\n",
       "      <td>126018</td>\n",
       "    </tr>\n",
       "    <tr>\n",
       "      <th>1</th>\n",
       "      <td>16033</td>\n",
       "    </tr>\n",
       "    <tr>\n",
       "      <th>2</th>\n",
       "      <td>4598</td>\n",
       "    </tr>\n",
       "    <tr>\n",
       "      <th>3</th>\n",
       "      <td>1754</td>\n",
       "    </tr>\n",
       "    <tr>\n",
       "      <th>4</th>\n",
       "      <td>747</td>\n",
       "    </tr>\n",
       "    <tr>\n",
       "      <th>5</th>\n",
       "      <td>342</td>\n",
       "    </tr>\n",
       "    <tr>\n",
       "      <th>6</th>\n",
       "      <td>140</td>\n",
       "    </tr>\n",
       "    <tr>\n",
       "      <th>7</th>\n",
       "      <td>54</td>\n",
       "    </tr>\n",
       "    <tr>\n",
       "      <th>8</th>\n",
       "      <td>25</td>\n",
       "    </tr>\n",
       "    <tr>\n",
       "      <th>9</th>\n",
       "      <td>12</td>\n",
       "    </tr>\n",
       "    <tr>\n",
       "      <th>10</th>\n",
       "      <td>4</td>\n",
       "    </tr>\n",
       "    <tr>\n",
       "      <th>11</th>\n",
       "      <td>1</td>\n",
       "    </tr>\n",
       "    <tr>\n",
       "      <th>12</th>\n",
       "      <td>2</td>\n",
       "    </tr>\n",
       "    <tr>\n",
       "      <th>13</th>\n",
       "      <td>1</td>\n",
       "    </tr>\n",
       "    <tr>\n",
       "      <th>96</th>\n",
       "      <td>5</td>\n",
       "    </tr>\n",
       "    <tr>\n",
       "      <th>98</th>\n",
       "      <td>264</td>\n",
       "    </tr>\n",
       "  </tbody>\n",
       "</table>\n",
       "</div>"
      ],
      "text/plain": [
       "    NumberOfTime30-59DaysPastDueNotWorse\n",
       "0                                 126018\n",
       "1                                  16033\n",
       "2                                   4598\n",
       "3                                   1754\n",
       "4                                    747\n",
       "5                                    342\n",
       "6                                    140\n",
       "7                                     54\n",
       "8                                     25\n",
       "9                                     12\n",
       "10                                     4\n",
       "11                                     1\n",
       "12                                     2\n",
       "13                                     1\n",
       "96                                     5\n",
       "98                                   264"
      ]
     },
     "execution_count": 68,
     "metadata": {},
     "output_type": "execute_result"
    }
   ],
   "source": [
    "pd.DataFrame(train[\"NumberOfTime30-59DaysPastDueNotWorse\"].value_counts().sort_index())"
   ]
  },
  {
   "cell_type": "code",
   "execution_count": 69,
   "metadata": {
    "colab": {
     "base_uri": "https://localhost:8080/",
     "height": 638
    },
    "id": "4bKI4RCyIAc4",
    "outputId": "79fc3cfb-5f55-4336-9fd9-be72c7f2ee11"
   },
   "outputs": [
    {
     "data": {
      "text/html": [
       "<div>\n",
       "<style scoped>\n",
       "    .dataframe tbody tr th:only-of-type {\n",
       "        vertical-align: middle;\n",
       "    }\n",
       "\n",
       "    .dataframe tbody tr th {\n",
       "        vertical-align: top;\n",
       "    }\n",
       "\n",
       "    .dataframe thead th {\n",
       "        text-align: right;\n",
       "    }\n",
       "</style>\n",
       "<table border=\"1\" class=\"dataframe\">\n",
       "  <thead>\n",
       "    <tr style=\"text-align: right;\">\n",
       "      <th></th>\n",
       "      <th>NumberOfTimes90DaysLate</th>\n",
       "    </tr>\n",
       "  </thead>\n",
       "  <tbody>\n",
       "    <tr>\n",
       "      <th>0</th>\n",
       "      <td>141662</td>\n",
       "    </tr>\n",
       "    <tr>\n",
       "      <th>1</th>\n",
       "      <td>5243</td>\n",
       "    </tr>\n",
       "    <tr>\n",
       "      <th>2</th>\n",
       "      <td>1555</td>\n",
       "    </tr>\n",
       "    <tr>\n",
       "      <th>3</th>\n",
       "      <td>667</td>\n",
       "    </tr>\n",
       "    <tr>\n",
       "      <th>4</th>\n",
       "      <td>291</td>\n",
       "    </tr>\n",
       "    <tr>\n",
       "      <th>5</th>\n",
       "      <td>131</td>\n",
       "    </tr>\n",
       "    <tr>\n",
       "      <th>6</th>\n",
       "      <td>80</td>\n",
       "    </tr>\n",
       "    <tr>\n",
       "      <th>7</th>\n",
       "      <td>38</td>\n",
       "    </tr>\n",
       "    <tr>\n",
       "      <th>8</th>\n",
       "      <td>21</td>\n",
       "    </tr>\n",
       "    <tr>\n",
       "      <th>9</th>\n",
       "      <td>19</td>\n",
       "    </tr>\n",
       "    <tr>\n",
       "      <th>10</th>\n",
       "      <td>8</td>\n",
       "    </tr>\n",
       "    <tr>\n",
       "      <th>11</th>\n",
       "      <td>5</td>\n",
       "    </tr>\n",
       "    <tr>\n",
       "      <th>12</th>\n",
       "      <td>2</td>\n",
       "    </tr>\n",
       "    <tr>\n",
       "      <th>13</th>\n",
       "      <td>4</td>\n",
       "    </tr>\n",
       "    <tr>\n",
       "      <th>14</th>\n",
       "      <td>2</td>\n",
       "    </tr>\n",
       "    <tr>\n",
       "      <th>15</th>\n",
       "      <td>2</td>\n",
       "    </tr>\n",
       "    <tr>\n",
       "      <th>17</th>\n",
       "      <td>1</td>\n",
       "    </tr>\n",
       "    <tr>\n",
       "      <th>96</th>\n",
       "      <td>5</td>\n",
       "    </tr>\n",
       "    <tr>\n",
       "      <th>98</th>\n",
       "      <td>264</td>\n",
       "    </tr>\n",
       "  </tbody>\n",
       "</table>\n",
       "</div>"
      ],
      "text/plain": [
       "    NumberOfTimes90DaysLate\n",
       "0                    141662\n",
       "1                      5243\n",
       "2                      1555\n",
       "3                       667\n",
       "4                       291\n",
       "5                       131\n",
       "6                        80\n",
       "7                        38\n",
       "8                        21\n",
       "9                        19\n",
       "10                        8\n",
       "11                        5\n",
       "12                        2\n",
       "13                        4\n",
       "14                        2\n",
       "15                        2\n",
       "17                        1\n",
       "96                        5\n",
       "98                      264"
      ]
     },
     "execution_count": 69,
     "metadata": {},
     "output_type": "execute_result"
    }
   ],
   "source": [
    "pd.DataFrame(train[\"NumberOfTimes90DaysLate\"].value_counts().sort_index())"
   ]
  },
  {
   "cell_type": "code",
   "execution_count": 70,
   "metadata": {
    "colab": {
     "base_uri": "https://localhost:8080/",
     "height": 452
    },
    "id": "Xgtltz62IAob",
    "outputId": "0803a1d9-3b28-4346-bb4c-89ea2a6f5b62"
   },
   "outputs": [
    {
     "data": {
      "text/html": [
       "<div>\n",
       "<style scoped>\n",
       "    .dataframe tbody tr th:only-of-type {\n",
       "        vertical-align: middle;\n",
       "    }\n",
       "\n",
       "    .dataframe tbody tr th {\n",
       "        vertical-align: top;\n",
       "    }\n",
       "\n",
       "    .dataframe thead th {\n",
       "        text-align: right;\n",
       "    }\n",
       "</style>\n",
       "<table border=\"1\" class=\"dataframe\">\n",
       "  <thead>\n",
       "    <tr style=\"text-align: right;\">\n",
       "      <th></th>\n",
       "      <th>NumberOfTime60-89DaysPastDueNotWorse</th>\n",
       "    </tr>\n",
       "  </thead>\n",
       "  <tbody>\n",
       "    <tr>\n",
       "      <th>0</th>\n",
       "      <td>142396</td>\n",
       "    </tr>\n",
       "    <tr>\n",
       "      <th>1</th>\n",
       "      <td>5731</td>\n",
       "    </tr>\n",
       "    <tr>\n",
       "      <th>2</th>\n",
       "      <td>1118</td>\n",
       "    </tr>\n",
       "    <tr>\n",
       "      <th>3</th>\n",
       "      <td>318</td>\n",
       "    </tr>\n",
       "    <tr>\n",
       "      <th>4</th>\n",
       "      <td>105</td>\n",
       "    </tr>\n",
       "    <tr>\n",
       "      <th>5</th>\n",
       "      <td>34</td>\n",
       "    </tr>\n",
       "    <tr>\n",
       "      <th>6</th>\n",
       "      <td>16</td>\n",
       "    </tr>\n",
       "    <tr>\n",
       "      <th>7</th>\n",
       "      <td>9</td>\n",
       "    </tr>\n",
       "    <tr>\n",
       "      <th>8</th>\n",
       "      <td>2</td>\n",
       "    </tr>\n",
       "    <tr>\n",
       "      <th>9</th>\n",
       "      <td>1</td>\n",
       "    </tr>\n",
       "    <tr>\n",
       "      <th>11</th>\n",
       "      <td>1</td>\n",
       "    </tr>\n",
       "    <tr>\n",
       "      <th>96</th>\n",
       "      <td>5</td>\n",
       "    </tr>\n",
       "    <tr>\n",
       "      <th>98</th>\n",
       "      <td>264</td>\n",
       "    </tr>\n",
       "  </tbody>\n",
       "</table>\n",
       "</div>"
      ],
      "text/plain": [
       "    NumberOfTime60-89DaysPastDueNotWorse\n",
       "0                                 142396\n",
       "1                                   5731\n",
       "2                                   1118\n",
       "3                                    318\n",
       "4                                    105\n",
       "5                                     34\n",
       "6                                     16\n",
       "7                                      9\n",
       "8                                      2\n",
       "9                                      1\n",
       "11                                     1\n",
       "96                                     5\n",
       "98                                   264"
      ]
     },
     "execution_count": 70,
     "metadata": {},
     "output_type": "execute_result"
    }
   ],
   "source": [
    "pd.DataFrame(train[\"NumberOfTime60-89DaysPastDueNotWorse\"].value_counts().sort_index())"
   ]
  },
  {
   "cell_type": "markdown",
   "metadata": {
    "id": "5p10Alb5HdeV"
   },
   "source": [
    "Something slightly off is happening for these three variables. While the vast majority of observations have values well below 20, 269 observations have values of 96 and 98. Are these the same 269 observations for each? Yes they are."
   ]
  },
  {
   "cell_type": "code",
   "execution_count": 71,
   "metadata": {
    "colab": {
     "base_uri": "https://localhost:8080/"
    },
    "id": "Gmb-7vJhIZ9N",
    "outputId": "1bd583ba-4308-4474-c5d3-65d81e0937a2"
   },
   "outputs": [
    {
     "data": {
      "text/plain": [
       "269"
      ]
     },
     "execution_count": 71,
     "metadata": {},
     "output_type": "execute_result"
    }
   ],
   "source": [
    "sum((train[\"NumberOfTime60-89DaysPastDueNotWorse\"] >= 96) & (train[\"NumberOfTimes90DaysLate\"] >= 96) & (train[\"NumberOfTime30-59DaysPastDueNotWorse\"] >= 96))"
   ]
  },
  {
   "cell_type": "markdown",
   "metadata": {
    "id": "PwDHDcqUI3Ju"
   },
   "source": [
    "Let's rid ourselves of these."
   ]
  },
  {
   "cell_type": "code",
   "execution_count": 72,
   "metadata": {
    "id": "QemJJ6xDI5_c"
   },
   "outputs": [],
   "source": [
    "train = train[(train[\"NumberOfTime60-89DaysPastDueNotWorse\"] < 96) & (train[\"NumberOfTimes90DaysLate\"] < 96) & (train[\"NumberOfTime30-59DaysPastDueNotWorse\"] < 96)]"
   ]
  },
  {
   "cell_type": "markdown",
   "metadata": {
    "id": "8KAe07_gJ-uj"
   },
   "source": [
    "We saw earlier that variables 1 and 4 would cause particular trouble. Let's take a look at the distributions for these, excluding the top 1 percent of values:"
   ]
  },
  {
   "cell_type": "code",
   "execution_count": 73,
   "metadata": {
    "colab": {
     "base_uri": "https://localhost:8080/",
     "height": 282
    },
    "id": "0Xl-8dZiKfgT",
    "outputId": "830ebeab-db05-4174-f63d-c8ccb36b16c4"
   },
   "outputs": [
    {
     "data": {
      "text/plain": [
       "<matplotlib.legend.Legend at 0x264d3c48610>"
      ]
     },
     "execution_count": 73,
     "metadata": {},
     "output_type": "execute_result"
    },
    {
     "data": {
      "image/png": "[encoded data removed]",
      "text/plain": [
       "<Figure size 432x288 with 1 Axes>"
      ]
     },
     "metadata": {
      "needs_background": "light"
     },
     "output_type": "display_data"
    }
   ],
   "source": [
    "train[(train[\"SeriousDlqin2yrs\"] == 1) & (train[\"RevolvingUtilizationOfUnsecuredLines\"] < train[\"RevolvingUtilizationOfUnsecuredLines\"].quantile(0.99))][\"RevolvingUtilizationOfUnsecuredLines\"].plot.density(label = '1') \n",
    "train[(train[\"SeriousDlqin2yrs\"] == 0) & (train[\"RevolvingUtilizationOfUnsecuredLines\"] < train[\"RevolvingUtilizationOfUnsecuredLines\"].quantile(0.99))][\"RevolvingUtilizationOfUnsecuredLines\"].plot.density(label = '0')\n",
    "plt.legend() "
   ]
  },
  {
   "cell_type": "code",
   "execution_count": 74,
   "metadata": {
    "colab": {
     "base_uri": "https://localhost:8080/",
     "height": 282
    },
    "id": "O1iaPXkTM6-1",
    "outputId": "439616b6-4c96-45c9-8bf2-8604a7d58ca5"
   },
   "outputs": [
    {
     "data": {
      "text/plain": [
       "<matplotlib.legend.Legend at 0x264d3c48490>"
      ]
     },
     "execution_count": 74,
     "metadata": {},
     "output_type": "execute_result"
    },
    {
     "data": {
      "image/png": "[encoded data removed]",
      "text/plain": [
       "<Figure size 432x288 with 1 Axes>"
      ]
     },
     "metadata": {
      "needs_background": "light"
     },
     "output_type": "display_data"
    }
   ],
   "source": [
    "train[(train[\"SeriousDlqin2yrs\"] == 1) & (train[\"DebtRatio\"] < train[\"DebtRatio\"].quantile(0.99))][\"DebtRatio\"].plot.density(label = '1') \n",
    "train[(train[\"SeriousDlqin2yrs\"] == 0) & (train[\"DebtRatio\"] < train[\"DebtRatio\"].quantile(0.99))][\"DebtRatio\"].plot.density(label = '0')\n",
    "plt.legend() "
   ]
  },
  {
   "cell_type": "markdown",
   "metadata": {
    "id": "G5y9IhRoNHsJ"
   },
   "source": [
    "There definitely appears to be some signal in variable 1, as the distributions diverge considerably. Not as much for variable 4. For variable 1, however, that top 1 percent of values, even top 0.5 percent of values, still seems to have considerable signal (remember from the initial descriptive statistics that the percentage of positives is roughly 0.065). "
   ]
  },
  {
   "cell_type": "code",
   "execution_count": 75,
   "metadata": {
    "colab": {
     "base_uri": "https://localhost:8080/"
    },
    "id": "4CczazHhOiSB",
    "outputId": "1489ebed-e320-4289-d88c-772e23d38a0c"
   },
   "outputs": [
    {
     "data": {
      "text/plain": [
       "0.3925233644859813"
      ]
     },
     "execution_count": 75,
     "metadata": {},
     "output_type": "execute_result"
    }
   ],
   "source": [
    "train[train[\"RevolvingUtilizationOfUnsecuredLines\"] > train[\"RevolvingUtilizationOfUnsecuredLines\"].quantile(0.99)][\"SeriousDlqin2yrs\"].mean()"
   ]
  },
  {
   "cell_type": "code",
   "execution_count": 76,
   "metadata": {
    "colab": {
     "base_uri": "https://localhost:8080/"
    },
    "id": "YdCGehotNiu1",
    "outputId": "5f88d4ca-c534-497b-f533-4845a240d766"
   },
   "outputs": [
    {
     "data": {
      "text/plain": [
       "0.29906542056074764"
      ]
     },
     "execution_count": 76,
     "metadata": {},
     "output_type": "execute_result"
    }
   ],
   "source": [
    "train[train[\"RevolvingUtilizationOfUnsecuredLines\"] > train[\"RevolvingUtilizationOfUnsecuredLines\"].quantile(0.995)][\"SeriousDlqin2yrs\"].mean()"
   ]
  },
  {
   "cell_type": "markdown",
   "metadata": {
    "id": "aWyAdJRnOzlM"
   },
   "source": [
    "But the signal seems to have largely disappeared by the time we are looking at values above the 99.9th percentile"
   ]
  },
  {
   "cell_type": "code",
   "execution_count": 77,
   "metadata": {
    "colab": {
     "base_uri": "https://localhost:8080/"
    },
    "id": "b9AKpRzcOypm",
    "outputId": "01692818-518a-4b37-f5ab-995beb6f88aa"
   },
   "outputs": [
    {
     "data": {
      "text/plain": [
       "1572.6200000001118"
      ]
     },
     "execution_count": 77,
     "metadata": {},
     "output_type": "execute_result"
    }
   ],
   "source": [
    "train[\"RevolvingUtilizationOfUnsecuredLines\"].quantile(0.999)"
   ]
  },
  {
   "cell_type": "code",
   "execution_count": 78,
   "metadata": {
    "colab": {
     "base_uri": "https://localhost:8080/"
    },
    "id": "GFn1RVirPT63",
    "outputId": "79a319f2-0637-4dbd-839a-7116e73a7f62"
   },
   "outputs": [
    {
     "data": {
      "text/plain": [
       "0.06"
      ]
     },
     "execution_count": 78,
     "metadata": {},
     "output_type": "execute_result"
    }
   ],
   "source": [
    "train[train[\"RevolvingUtilizationOfUnsecuredLines\"] > train[\"RevolvingUtilizationOfUnsecuredLines\"].quantile(0.999)][\"SeriousDlqin2yrs\"].mean()"
   ]
  },
  {
   "cell_type": "markdown",
   "metadata": {
    "id": "Jq5MouGSPg9X"
   },
   "source": [
    "So let's remove values above this cutoff."
   ]
  },
  {
   "cell_type": "code",
   "execution_count": 79,
   "metadata": {
    "id": "aAc2diOJPkb0"
   },
   "outputs": [],
   "source": [
    "train = train[train[\"RevolvingUtilizationOfUnsecuredLines\"] <= train[\"RevolvingUtilizationOfUnsecuredLines\"].quantile(0.999)]"
   ]
  },
  {
   "cell_type": "markdown",
   "metadata": {
    "id": "FWWqZz2CPybV"
   },
   "source": [
    "Similarly, for variable 3 (debt ratio), we can see that the signal in the top 1 percent is somewhat minimal to begin with, so we'll drop these values. The abridged dataset is roughly 148,000 observations strong."
   ]
  },
  {
   "cell_type": "code",
   "execution_count": 80,
   "metadata": {
    "id": "l_WB_wTONq9z"
   },
   "outputs": [],
   "source": [
    "train = train[train[\"DebtRatio\"] <= train[\"DebtRatio\"].quantile(0.99)]"
   ]
  },
  {
   "cell_type": "code",
   "execution_count": 81,
   "metadata": {
    "colab": {
     "base_uri": "https://localhost:8080/"
    },
    "id": "IoxxQfmYQGGk",
    "outputId": "3ec4e4c5-a8e0-4fa8-dcc8-8d467ff69f3f"
   },
   "outputs": [
    {
     "data": {
      "text/plain": [
       "(148086, 11)"
      ]
     },
     "execution_count": 81,
     "metadata": {},
     "output_type": "execute_result"
    }
   ],
   "source": [
    "train.shape"
   ]
  },
  {
   "cell_type": "markdown",
   "metadata": {
    "id": "tH5jbRCuQO-1"
   },
   "source": [
    "We still need to take care of those NA values. Let's see how many are left at this point."
   ]
  },
  {
   "cell_type": "code",
   "execution_count": 82,
   "metadata": {
    "colab": {
     "base_uri": "https://localhost:8080/"
    },
    "id": "8Eebd-kXQXPa",
    "outputId": "88677ab8-7464-4e98-a892-81e87c1b6492"
   },
   "outputs": [
    {
     "data": {
      "text/plain": [
       "SeriousDlqin2yrs                            0\n",
       "RevolvingUtilizationOfUnsecuredLines        0\n",
       "age                                         0\n",
       "NumberOfTime30-59DaysPastDueNotWorse        0\n",
       "DebtRatio                                   0\n",
       "MonthlyIncome                           28162\n",
       "NumberOfOpenCreditLinesAndLoans             0\n",
       "NumberOfTimes90DaysLate                     0\n",
       "NumberRealEstateLoansOrLines                0\n",
       "NumberOfTime60-89DaysPastDueNotWorse        0\n",
       "NumberOfDependents                       3801\n",
       "dtype: int64"
      ]
     },
     "execution_count": 82,
     "metadata": {},
     "output_type": "execute_result"
    }
   ],
   "source": [
    "train.isna().sum()"
   ]
  },
  {
   "cell_type": "markdown",
   "metadata": {
    "id": "KodUhW28Qd1R"
   },
   "source": [
    "We'll try 3 approaches, resulting in 3 different datasets: \n",
    "\n",
    "1.   Simply drop the NA values (\"train_short1\")\n",
    "2.   Impute missing values with the median of each column (\"train_short2\")\n",
    "3.   Use sklearn's iterative imputer, which estimates the data values for each feature based on all other feature values in a round-robin fashion\n",
    "(\"train_short3\")\n",
    "\n",
    "Of these 3 techniques, 1 and 2 seem somewhat naive. Method 3 is more tailed to the particulars of the data, so we'd expect the associated dataset to be the most reliable.\n",
    "\n"
   ]
  },
  {
   "cell_type": "code",
   "execution_count": 83,
   "metadata": {
    "id": "P3yFT68GQ6GE"
   },
   "outputs": [],
   "source": [
    "# update the trainX and trainy datasets\n",
    "train.reset_index(drop = True, inplace = True)\n",
    "trainX = train.iloc[:, 1:11]\n",
    "trainy = train.iloc[:,0]"
   ]
  },
  {
   "cell_type": "code",
   "execution_count": 84,
   "metadata": {
    "id": "fL5lP_PC9lW3"
   },
   "outputs": [],
   "source": [
    "train_short1 = train.dropna() #drop all NA values\n",
    "train_short2 = trainX.fillna(trainX.median()) # impute medians of columns in place of all NA values"
   ]
  },
  {
   "cell_type": "code",
   "execution_count": 85,
   "metadata": {
    "id": "TzI-EmLp78Ma"
   },
   "outputs": [],
   "source": [
    "imp_mean = IterativeImputer(random_state=0) # use iterative imputer to fill missing values\n",
    "imp_mean.fit(trainX)\n",
    "train_short3 = pd.DataFrame(imp_mean.transform(trainX))"
   ]
  },
  {
   "cell_type": "markdown",
   "metadata": {
    "id": "WjBvZs7aSCBQ"
   },
   "source": [
    "We can see that the Iterative Imputer gave some observations negative vlaues for Monthly Income and Number of Dependents. Let's drop those. "
   ]
  },
  {
   "cell_type": "code",
   "execution_count": 86,
   "metadata": {
    "colab": {
     "base_uri": "https://localhost:8080/",
     "height": 317
    },
    "id": "VKspt8JzR670",
    "outputId": "4b74da3b-aecc-45e6-ef18-d2ce3e83d236"
   },
   "outputs": [
    {
     "data": {
      "text/html": [
       "<div>\n",
       "<style scoped>\n",
       "    .dataframe tbody tr th:only-of-type {\n",
       "        vertical-align: middle;\n",
       "    }\n",
       "\n",
       "    .dataframe tbody tr th {\n",
       "        vertical-align: top;\n",
       "    }\n",
       "\n",
       "    .dataframe thead th {\n",
       "        text-align: right;\n",
       "    }\n",
       "</style>\n",
       "<table border=\"1\" class=\"dataframe\">\n",
       "  <thead>\n",
       "    <tr style=\"text-align: right;\">\n",
       "      <th></th>\n",
       "      <th>0</th>\n",
       "      <th>1</th>\n",
       "      <th>2</th>\n",
       "      <th>3</th>\n",
       "      <th>4</th>\n",
       "      <th>5</th>\n",
       "      <th>6</th>\n",
       "      <th>7</th>\n",
       "      <th>8</th>\n",
       "      <th>9</th>\n",
       "    </tr>\n",
       "  </thead>\n",
       "  <tbody>\n",
       "    <tr>\n",
       "      <th>count</th>\n",
       "      <td>148086.000000</td>\n",
       "      <td>148086.000000</td>\n",
       "      <td>148086.000000</td>\n",
       "      <td>148086.000000</td>\n",
       "      <td>1.480860e+05</td>\n",
       "      <td>148086.000000</td>\n",
       "      <td>148086.000000</td>\n",
       "      <td>148086.000000</td>\n",
       "      <td>148086.000000</td>\n",
       "      <td>148086.000000</td>\n",
       "    </tr>\n",
       "    <tr>\n",
       "      <th>mean</th>\n",
       "      <td>0.716075</td>\n",
       "      <td>52.308199</td>\n",
       "      <td>0.244810</td>\n",
       "      <td>269.807261</td>\n",
       "      <td>5.739026e+03</td>\n",
       "      <td>8.429007</td>\n",
       "      <td>0.090940</td>\n",
       "      <td>1.001020</td>\n",
       "      <td>0.065030</td>\n",
       "      <td>0.751422</td>\n",
       "    </tr>\n",
       "    <tr>\n",
       "      <th>std</th>\n",
       "      <td>19.908916</td>\n",
       "      <td>14.791825</td>\n",
       "      <td>0.695967</td>\n",
       "      <td>780.905267</td>\n",
       "      <td>1.318023e+04</td>\n",
       "      <td>5.116680</td>\n",
       "      <td>0.486841</td>\n",
       "      <td>1.102863</td>\n",
       "      <td>0.330851</td>\n",
       "      <td>1.103804</td>\n",
       "    </tr>\n",
       "    <tr>\n",
       "      <th>min</th>\n",
       "      <td>0.000000</td>\n",
       "      <td>0.000000</td>\n",
       "      <td>0.000000</td>\n",
       "      <td>0.000000</td>\n",
       "      <td>-1.101800e+04</td>\n",
       "      <td>0.000000</td>\n",
       "      <td>0.000000</td>\n",
       "      <td>0.000000</td>\n",
       "      <td>0.000000</td>\n",
       "      <td>-0.409539</td>\n",
       "    </tr>\n",
       "    <tr>\n",
       "      <th>25%</th>\n",
       "      <td>0.029586</td>\n",
       "      <td>41.000000</td>\n",
       "      <td>0.000000</td>\n",
       "      <td>0.173869</td>\n",
       "      <td>2.863000e+03</td>\n",
       "      <td>5.000000</td>\n",
       "      <td>0.000000</td>\n",
       "      <td>0.000000</td>\n",
       "      <td>0.000000</td>\n",
       "      <td>0.000000</td>\n",
       "    </tr>\n",
       "    <tr>\n",
       "      <th>50%</th>\n",
       "      <td>0.151991</td>\n",
       "      <td>52.000000</td>\n",
       "      <td>0.000000</td>\n",
       "      <td>0.362803</td>\n",
       "      <td>4.789916e+03</td>\n",
       "      <td>8.000000</td>\n",
       "      <td>0.000000</td>\n",
       "      <td>1.000000</td>\n",
       "      <td>0.000000</td>\n",
       "      <td>0.000000</td>\n",
       "    </tr>\n",
       "    <tr>\n",
       "      <th>75%</th>\n",
       "      <td>0.552951</td>\n",
       "      <td>63.000000</td>\n",
       "      <td>0.000000</td>\n",
       "      <td>0.819749</td>\n",
       "      <td>7.450000e+03</td>\n",
       "      <td>11.000000</td>\n",
       "      <td>0.000000</td>\n",
       "      <td>2.000000</td>\n",
       "      <td>0.000000</td>\n",
       "      <td>1.000000</td>\n",
       "    </tr>\n",
       "    <tr>\n",
       "      <th>max</th>\n",
       "      <td>1571.000000</td>\n",
       "      <td>109.000000</td>\n",
       "      <td>13.000000</td>\n",
       "      <td>4983.000000</td>\n",
       "      <td>3.008750e+06</td>\n",
       "      <td>58.000000</td>\n",
       "      <td>17.000000</td>\n",
       "      <td>54.000000</td>\n",
       "      <td>11.000000</td>\n",
       "      <td>20.000000</td>\n",
       "    </tr>\n",
       "  </tbody>\n",
       "</table>\n",
       "</div>"
      ],
      "text/plain": [
       "                   0              1              2              3  \\\n",
       "count  148086.000000  148086.000000  148086.000000  148086.000000   \n",
       "mean        0.716075      52.308199       0.244810     269.807261   \n",
       "std        19.908916      14.791825       0.695967     780.905267   \n",
       "min         0.000000       0.000000       0.000000       0.000000   \n",
       "25%         0.029586      41.000000       0.000000       0.173869   \n",
       "50%         0.151991      52.000000       0.000000       0.362803   \n",
       "75%         0.552951      63.000000       0.000000       0.819749   \n",
       "max      1571.000000     109.000000      13.000000    4983.000000   \n",
       "\n",
       "                  4              5              6              7  \\\n",
       "count  1.480860e+05  148086.000000  148086.000000  148086.000000   \n",
       "mean   5.739026e+03       8.429007       0.090940       1.001020   \n",
       "std    1.318023e+04       5.116680       0.486841       1.102863   \n",
       "min   -1.101800e+04       0.000000       0.000000       0.000000   \n",
       "25%    2.863000e+03       5.000000       0.000000       0.000000   \n",
       "50%    4.789916e+03       8.000000       0.000000       1.000000   \n",
       "75%    7.450000e+03      11.000000       0.000000       2.000000   \n",
       "max    3.008750e+06      58.000000      17.000000      54.000000   \n",
       "\n",
       "                   8              9  \n",
       "count  148086.000000  148086.000000  \n",
       "mean        0.065030       0.751422  \n",
       "std         0.330851       1.103804  \n",
       "min         0.000000      -0.409539  \n",
       "25%         0.000000       0.000000  \n",
       "50%         0.000000       0.000000  \n",
       "75%         0.000000       1.000000  \n",
       "max        11.000000      20.000000  "
      ]
     },
     "execution_count": 86,
     "metadata": {},
     "output_type": "execute_result"
    }
   ],
   "source": [
    "train_short3.describe()"
   ]
  },
  {
   "cell_type": "code",
   "execution_count": 87,
   "metadata": {
    "id": "3KkbYIIrSN3S"
   },
   "outputs": [],
   "source": [
    "trainy3 = trainy[train_short3[9] >= 0]"
   ]
  },
  {
   "cell_type": "code",
   "execution_count": 88,
   "metadata": {
    "id": "2FwFjhaqV4G4"
   },
   "outputs": [],
   "source": [
    "train_short3 = train_short3[train_short3[9] >= 0]"
   ]
  },
  {
   "cell_type": "markdown",
   "metadata": {
    "id": "FKaXg8KfSZJA"
   },
   "source": [
    "Reset indices of each dataset (for neatness), and change names of each column to numbers (for consistency)"
   ]
  },
  {
   "cell_type": "code",
   "execution_count": 89,
   "metadata": {
    "id": "RQntHt2UeK_v"
   },
   "outputs": [],
   "source": [
    "train_short1.reset_index(drop = True, inplace = True)\n",
    "train_short2.reset_index(drop = True, inplace = True)\n",
    "train_short3.reset_index(drop = True, inplace = True)"
   ]
  },
  {
   "cell_type": "code",
   "execution_count": 90,
   "metadata": {
    "id": "MNm8vkv5ScIn"
   },
   "outputs": [],
   "source": [
    "columnchange = {\"RevolvingUtilizationOfUnsecuredLines\": \"0\", \"age\": \"1\", \"NumberOfTime30-59DaysPastDueNotWorse\": \"2\", \"DebtRatio\": \"3\", \"MonthlyIncome\": \"4\", \"NumberOfOpenCreditLinesAndLoans\": \"5\", \"NumberOfTimes90DaysLate\": \"6\", \"NumberRealEstateLoansOrLines\": \"7\", \"NumberOfTime60-89DaysPastDueNotWorse\": \"8\", \"NumberOfDependents\": \"9\"}"
   ]
  },
  {
   "cell_type": "code",
   "execution_count": 91,
   "metadata": {
    "colab": {
     "base_uri": "https://localhost:8080/"
    },
    "id": "bQghyAxFTnYF",
    "outputId": "2917c1a9-432c-473d-91cc-89caf8011141"
   },
   "outputs": [
    {
     "name": "stderr",
     "output_type": "stream",
     "text": [
      "C:\\Users\\_\\anaconda3\\lib\\site-packages\\pandas\\core\\frame.py:4296: SettingWithCopyWarning: \n",
      "A value is trying to be set on a copy of a slice from a DataFrame\n",
      "\n",
      "See the caveats in the documentation: https://pandas.pydata.org/pandas-docs/stable/user_guide/indexing.html#returning-a-view-versus-a-copy\n",
      "  return super().rename(\n"
     ]
    }
   ],
   "source": [
    "train_short1.rename(columns = columnchange, inplace = True)\n",
    "train_short2.rename(columns = columnchange, inplace = True)"
   ]
  },
  {
   "cell_type": "markdown",
   "metadata": {
    "id": "V1oDFksRTElr"
   },
   "source": [
    "Standardize the data"
   ]
  },
  {
   "cell_type": "code",
   "execution_count": 92,
   "metadata": {
    "id": "SUf8AfrVqtua"
   },
   "outputs": [],
   "source": [
    "trainX1 = train_short1.iloc[:, 1:11]\n",
    "trainy1 = train_short1.iloc[:,0]\n",
    "trainX1 = (trainX1 - trainX1.mean())/trainX1.std()\n",
    "\n",
    "trainX2 = train_short2\n",
    "trainy2 = trainy\n",
    "trainX2 = (trainX2 - trainX2.mean())/trainX2.std()\n",
    "\n",
    "trainX3 = train_short3\n",
    "trainy3 = trainy3\n",
    "trainX3 = (trainX3 - trainX3.mean())/trainX3.std()"
   ]
  },
  {
   "cell_type": "code",
   "execution_count": 93,
   "metadata": {
    "colab": {
     "base_uri": "https://localhost:8080/"
    },
    "id": "6lF2BYibXQZp",
    "outputId": "1eca461c-3fbe-4f88-8ad6-0ca25ee6f60a"
   },
   "outputs": [
    {
     "data": {
      "text/plain": [
       "(147869, 10)"
      ]
     },
     "execution_count": 93,
     "metadata": {},
     "output_type": "execute_result"
    }
   ],
   "source": [
    "trainX3.shape"
   ]
  },
  {
   "cell_type": "markdown",
   "metadata": {
    "id": "Tem3VA8_XEgw"
   },
   "source": [
    "**Initial Algorithms: kNN and SVC**"
   ]
  },
  {
   "cell_type": "markdown",
   "metadata": {
    "id": "VL5NAD2cdCiu"
   },
   "source": [
    "We'll first try to do a basic kNN classifier on the dataset. We'll cross validate (5 fold) over a range of k-values from 1 up to 10, and find AUC for datasets 1-3. \n",
    "  1. Simple drop NA (obs = 119,924)\n",
    "  2. Median Imputation (obs = 148,086)\n",
    "  3. Iteratively Imputed (obs = 147,869)"
   ]
  },
  {
   "cell_type": "code",
   "execution_count": 44,
   "metadata": {
    "id": "Jat9Zf9-hji3"
   },
   "outputs": [],
   "source": [
    "from sklearn.model_selection import cross_validate"
   ]
  },
  {
   "cell_type": "code",
   "execution_count": null,
   "metadata": {
    "id": "N5Y9HhaIhcu_"
   },
   "outputs": [],
   "source": [
    "ktests = range(1,11)\n",
    "kresults1 = {}\n",
    "kresults2 = {}\n",
    "kresults3 = {}\n",
    "\n",
    "for k in ktests:\n",
    "  knn = KNeighborsClassifier(n_neighbors = k)\n",
    "  results1 = cross_validate(knn, trainX1, trainy1, scoring = 'roc_auc', cv = 5, n_jobs = -1) # dropNA\n",
    "  results2 = cross_validate(knn, trainX2, trainy2, scoring = 'roc_auc', cv = 5, n_jobs = -1) # Median Imputation\n",
    "  results3 = cross_validate(knn, trainX3, trainy3, scoring = 'roc_auc', cv = 5, n_jobs = -1) # Iteratively Imputed\n",
    "  kresults1[k] = results1['test_score'].mean()\n",
    "  kresults2[k] = results2['test_score'].mean()\n",
    "  kresults3[k] = results3['test_score'].mean()"
   ]
  },
  {
   "cell_type": "markdown",
   "metadata": {
    "id": "E9BNRj8FkY13"
   },
   "source": [
    "The results for each dataset are below:"
   ]
  },
  {
   "cell_type": "code",
   "execution_count": null,
   "metadata": {
    "colab": {
     "base_uri": "https://localhost:8080/"
    },
    "id": "hfWvnWM4yNzh",
    "outputId": "15b11b31-e57f-4d1e-92e8-4f3c9e9ea27e"
   },
   "outputs": [],
   "source": [
    "kresults1"
   ]
  },
  {
   "cell_type": "code",
   "execution_count": null,
   "metadata": {
    "colab": {
     "base_uri": "https://localhost:8080/"
    },
    "id": "ynZ3jrnmyQ2S",
    "outputId": "d2e2bf48-78ca-44c2-d1fc-0a86017e84d9"
   },
   "outputs": [],
   "source": [
    "kresults2"
   ]
  },
  {
   "cell_type": "code",
   "execution_count": null,
   "metadata": {
    "colab": {
     "base_uri": "https://localhost:8080/"
    },
    "id": "snW-QO59ySkL",
    "outputId": "a9a340ca-02bb-46eb-b4aa-abf226d0df3f"
   },
   "outputs": [],
   "source": [
    "kresults3"
   ]
  },
  {
   "cell_type": "code",
   "execution_count": null,
   "metadata": {
    "colab": {
     "base_uri": "https://localhost:8080/",
     "height": 295
    },
    "id": "RbA2J-fACXAu",
    "outputId": "4e752568-cbb4-4b0e-f1e7-7b9971591015"
   },
   "outputs": [],
   "source": [
    "lists1 = sorted(kresults1.items()) # sorted by key, return a list of tuples\n",
    "lists2 = sorted(kresults2.items()) # sorted by key, return a list of tuples\n",
    "lists3 = sorted(kresults3.items()) # sorted by key, return a list of tuples\n",
    "\n",
    "x1, y1 = zip(*lists1) # unpack a list of pairs into two tuples\n",
    "x2, y2 = zip(*lists2) # unpack a list of pairs into two tuples\n",
    "x3, y3 = zip(*lists3) # unpack a list of pairs into two tuples\n",
    "\n",
    "plt.plot(x1, y1, label = '1')\n",
    "plt.plot(x2, y2, label = '2')\n",
    "plt.plot(x3, y3, label = '3')\n",
    "plt.ylabel('AUC')\n",
    "plt.xlabel('k')\n",
    "plt.title('k versus AUC for kNN')\n",
    "plt.legend()\n",
    "plt.show()"
   ]
  },
  {
   "cell_type": "markdown",
   "metadata": {
    "id": "akvL1FVikb80"
   },
   "source": [
    "We can see that at least in the 1 to 10 range, increasing k always improves the AUC. The dropNA dataset performs slightly worse throughout than the other two datasets, which perform roughly equally for all values of k. Now we'll find the ROC for 10NN (which seems to perform best of the options) on a sample split of each dataset. "
   ]
  },
  {
   "cell_type": "code",
   "execution_count": null,
   "metadata": {
    "id": "Pf1muNGHk1WU"
   },
   "outputs": [],
   "source": [
    "trainX11, trainX12, trainy11, trainy12 = train_test_split(trainX1, trainy1, test_size=0.2)\n",
    "trainX21, trainX22, trainy21, trainy22 = train_test_split(trainX2, trainy2, test_size=0.2)\n",
    "trainX31, trainX32, trainy31, trainy32 = train_test_split(trainX3, trainy3, test_size=0.2)"
   ]
  },
  {
   "cell_type": "code",
   "execution_count": null,
   "metadata": {
    "id": "HNot1a8KlB34"
   },
   "outputs": [],
   "source": [
    "knn = KNeighborsClassifier(n_neighbors = 10)\n",
    "knn.fit(trainX11,trainy11)\n",
    "y_scores1 = knn.predict_proba(trainX12)\n",
    "fpr1, tpr1, threshold1 = roc_curve(trainy12, y_scores1[:, 1])\n",
    "roc_auc1 = auc(fpr1, tpr1)"
   ]
  },
  {
   "cell_type": "code",
   "execution_count": null,
   "metadata": {
    "id": "0-UmKB29qNC8"
   },
   "outputs": [],
   "source": [
    "knn.fit(trainX21,trainy21)\n",
    "y_scores2 = knn.predict_proba(trainX22)\n",
    "fpr2, tpr2, threshold2 = roc_curve(trainy22, y_scores2[:, 1])\n",
    "roc_auc2 = auc(fpr2, tpr2)"
   ]
  },
  {
   "cell_type": "code",
   "execution_count": null,
   "metadata": {
    "id": "XNq_dVsvqNgm"
   },
   "outputs": [],
   "source": [
    "knn.fit(trainX31,trainy31)\n",
    "y_scores3 = knn.predict_proba(trainX32)\n",
    "fpr3, tpr3, threshold3 = roc_curve(trainy32, y_scores3[:, 1])\n",
    "roc_auc3 = auc(fpr3, tpr3)"
   ]
  },
  {
   "cell_type": "markdown",
   "metadata": {
    "id": "IcVmsnUIqyV7"
   },
   "source": [
    "The results, graphed below. "
   ]
  },
  {
   "cell_type": "code",
   "execution_count": null,
   "metadata": {
    "colab": {
     "base_uri": "https://localhost:8080/",
     "height": 295
    },
    "id": "ekqDOUH9qlKC",
    "outputId": "310297a9-0281-4063-d271-106358d68633"
   },
   "outputs": [],
   "source": [
    "plt.title('Receiver Operating Characteristic')\n",
    "plt.plot(fpr1, tpr1, 'b', label = 'AUC = %0.2f' % roc_auc1)\n",
    "plt.legend(loc = 'lower right')\n",
    "plt.plot([0, 1], [0, 1],'r--')\n",
    "plt.xlim([0, 1])\n",
    "plt.ylim([0, 1])\n",
    "plt.ylabel('True Positive Rate')\n",
    "plt.xlabel('False Positive Rate')\n",
    "plt.title('ROC Curve of 10NN (Dataset 1)')\n",
    "plt.show()"
   ]
  },
  {
   "cell_type": "code",
   "execution_count": null,
   "metadata": {
    "colab": {
     "base_uri": "https://localhost:8080/",
     "height": 295
    },
    "id": "TAmcTtihqo87",
    "outputId": "efc3629e-2891-41c8-e7e7-b5363750fc4c"
   },
   "outputs": [],
   "source": [
    "plt.title('Receiver Operating Characteristic')\n",
    "plt.plot(fpr2, tpr2, 'b', label = 'AUC = %0.2f' % roc_auc2)\n",
    "plt.legend(loc = 'lower right')\n",
    "plt.plot([0, 1], [0, 1],'r--')\n",
    "plt.xlim([0, 1])\n",
    "plt.ylim([0, 1])\n",
    "plt.ylabel('True Positive Rate')\n",
    "plt.xlabel('False Positive Rate')\n",
    "plt.title('ROC Curve of 10NN (Dataset 2)')\n",
    "plt.show()"
   ]
  },
  {
   "cell_type": "code",
   "execution_count": null,
   "metadata": {
    "colab": {
     "base_uri": "https://localhost:8080/",
     "height": 295
    },
    "id": "-sErAL80qpGK",
    "outputId": "363cf661-4efd-4888-ca07-e2dcc3228434"
   },
   "outputs": [],
   "source": [
    "plt.title('Receiver Operating Characteristic')\n",
    "plt.plot(fpr3, tpr3, 'b', label = 'AUC = %0.2f' % roc_auc3)\n",
    "plt.legend(loc = 'lower right')\n",
    "plt.plot([0, 1], [0, 1],'r--')\n",
    "plt.xlim([0, 1])\n",
    "plt.ylim([0, 1])\n",
    "plt.ylabel('True Positive Rate')\n",
    "plt.xlabel('False Positive Rate')\n",
    "plt.title('ROC Curve of 10NN (Dataset 3)')\n",
    "plt.show()"
   ]
  },
  {
   "cell_type": "markdown",
   "metadata": {
    "id": "AYZmOCrVq1tV"
   },
   "source": [
    "10NN doesn't perform too badly on the dataset. The AUC for dataset 1 is in the vicinity of 0.75, while the AUC for datasets 2 and 3 is in the vicinity of 0.76. Can SVC do better? Let's see! We'll use linear SVC, an sklearn routine that is essentially SVC, but with a linear kernel, and implemented in a way which scales better to larger datasets (like the ones that we have here).\n",
    "\n"
   ]
  },
  {
   "cell_type": "code",
   "execution_count": null,
   "metadata": {
    "id": "9V5FEa1Eu_Pz"
   },
   "outputs": [],
   "source": [
    "from sklearn.svm import LinearSVC\n",
    "from sklearn.pipeline import make_pipeline\n",
    "from sklearn.preprocessing import StandardScaler"
   ]
  },
  {
   "cell_type": "code",
   "execution_count": null,
   "metadata": {
    "id": "dHOOBIC4vCZD"
   },
   "outputs": [],
   "source": [
    "svc = make_pipeline(StandardScaler(), LinearSVC(random_state=0, tol=1e-5))"
   ]
  },
  {
   "cell_type": "markdown",
   "metadata": {
    "id": "Tj3f4tzKrhUm"
   },
   "source": [
    "Run 5 fold cross validation of linear SVC on each of our 3 datasets."
   ]
  },
  {
   "cell_type": "code",
   "execution_count": null,
   "metadata": {
    "id": "fXBe49fAvbYx"
   },
   "outputs": [],
   "source": [
    "svmresults1 = cross_validate(svc,trainX1, trainy1, scoring = 'roc_auc', cv = 5, n_jobs = -1)\n",
    "svmresults2 = cross_validate(svc,trainX2, trainy2, scoring = 'roc_auc', cv = 5, n_jobs = -1)\n",
    "svmresults3 = cross_validate(svc,trainX3, trainy3, scoring = 'roc_auc', cv = 5, n_jobs = -1)"
   ]
  },
  {
   "cell_type": "code",
   "execution_count": null,
   "metadata": {
    "colab": {
     "base_uri": "https://localhost:8080/"
    },
    "id": "QatOEm9vUvWe",
    "outputId": "34ed5124-b875-43f4-e03c-626e573a64e2"
   },
   "outputs": [],
   "source": [
    "svmresults1['test_score'].mean()"
   ]
  },
  {
   "cell_type": "code",
   "execution_count": null,
   "metadata": {
    "colab": {
     "base_uri": "https://localhost:8080/"
    },
    "id": "Pdm6WRU2U-Qm",
    "outputId": "3aa3642b-41c0-4c38-c383-dab6b0024e60"
   },
   "outputs": [],
   "source": [
    "svmresults2['test_score'].mean()"
   ]
  },
  {
   "cell_type": "code",
   "execution_count": null,
   "metadata": {
    "colab": {
     "base_uri": "https://localhost:8080/"
    },
    "id": "3KZ8tILNU_vd",
    "outputId": "a4615c0f-08dc-4ed5-f706-d9524bf3b15e"
   },
   "outputs": [],
   "source": [
    "svmresults3['test_score'].mean()"
   ]
  },
  {
   "cell_type": "markdown",
   "metadata": {
    "id": "ZOEdTusltOvV"
   },
   "source": [
    "Once again, dataset 3 comes on top, with dataset 2 close behind, and dataset 1 slightly more behind. Let's graph those ROC's on the same splits we used for 10NN to get a better visual of what is going on."
   ]
  },
  {
   "cell_type": "code",
   "execution_count": null,
   "metadata": {
    "id": "xjnpMkrbdSwI"
   },
   "outputs": [],
   "source": [
    "from sklearn.calibration import CalibratedClassifierCV"
   ]
  },
  {
   "cell_type": "code",
   "execution_count": null,
   "metadata": {
    "id": "cifq6V2ShdgV"
   },
   "outputs": [],
   "source": [
    "clf2 = CalibratedClassifierCV(svc)"
   ]
  },
  {
   "cell_type": "code",
   "execution_count": null,
   "metadata": {
    "colab": {
     "base_uri": "https://localhost:8080/"
    },
    "id": "oUJTAe9IhiZr",
    "outputId": "1b168c76-c82c-4f1e-d54a-6d18c15aa130"
   },
   "outputs": [],
   "source": [
    "clf2.fit(trainX11, trainy11)\n",
    "y_scores4 = clf2.predict_proba(trainX12)"
   ]
  },
  {
   "cell_type": "code",
   "execution_count": null,
   "metadata": {
    "colab": {
     "base_uri": "https://localhost:8080/"
    },
    "id": "hW0L8qYcttzU",
    "outputId": "eede3174-f0b8-44ed-9fbc-cdfaf3fa5ec1"
   },
   "outputs": [],
   "source": [
    "clf2.fit(trainX21, trainy21)\n",
    "y_scores5 = clf2.predict_proba(trainX22)"
   ]
  },
  {
   "cell_type": "code",
   "execution_count": null,
   "metadata": {
    "colab": {
     "base_uri": "https://localhost:8080/"
    },
    "id": "_ZeHiiyKtv0P",
    "outputId": "cb7ef3c8-0307-4fbc-ce7c-367dbf163ad4"
   },
   "outputs": [],
   "source": [
    "clf2.fit(trainX31, trainy31)\n",
    "y_scores6 = clf2.predict_proba(trainX32)"
   ]
  },
  {
   "cell_type": "code",
   "execution_count": null,
   "metadata": {
    "id": "S-hOPpL4iHWE"
   },
   "outputs": [],
   "source": [
    "fpr4, tpr4, threshold4 = roc_curve(trainy12, y_scores4[:, 1])\n",
    "roc_auc4 = auc(fpr4, tpr4)\n",
    "\n",
    "fpr5, tpr5, threshold5 = roc_curve(trainy22, y_scores5[:, 1])\n",
    "roc_auc5 = auc(fpr5, tpr5)\n",
    "\n",
    "fpr6, tpr6, threshold6 = roc_curve(trainy32, y_scores6[:, 1])\n",
    "roc_auc6 = auc(fpr6, tpr6)"
   ]
  },
  {
   "cell_type": "markdown",
   "metadata": {
    "id": "DXfQXsOju-0R"
   },
   "source": [
    "The ROC curves for linear SVC on each dataset split are graphed below:"
   ]
  },
  {
   "cell_type": "code",
   "execution_count": null,
   "metadata": {
    "colab": {
     "base_uri": "https://localhost:8080/",
     "height": 295
    },
    "id": "Z1PAGXpViMtn",
    "outputId": "c7b086fc-f309-4f7c-e945-943538cfce07"
   },
   "outputs": [],
   "source": [
    "plt.title('Receiver Operating Characteristic')\n",
    "plt.plot(fpr4, tpr4, 'b', label = 'AUC = %0.2f' % roc_auc4)\n",
    "plt.legend(loc = 'lower right')\n",
    "plt.plot([0, 1], [0, 1],'r--')\n",
    "plt.xlim([0, 1])\n",
    "plt.ylim([0, 1])\n",
    "plt.ylabel('True Positive Rate')\n",
    "plt.xlabel('False Positive Rate')\n",
    "plt.title('ROC Curve of Linear SVC (Dataset 1)')\n",
    "plt.show()"
   ]
  },
  {
   "cell_type": "code",
   "execution_count": null,
   "metadata": {
    "colab": {
     "base_uri": "https://localhost:8080/",
     "height": 295
    },
    "id": "Mw9KpOrivXu4",
    "outputId": "7bab0cde-bf9a-4dc4-fe8b-7b70d9bf9eaa"
   },
   "outputs": [],
   "source": [
    "plt.title('Receiver Operating Characteristic')\n",
    "plt.plot(fpr5, tpr5, 'b', label = 'AUC = %0.2f' % roc_auc5)\n",
    "plt.legend(loc = 'lower right')\n",
    "plt.plot([0, 1], [0, 1],'r--')\n",
    "plt.xlim([0, 1])\n",
    "plt.ylim([0, 1])\n",
    "plt.ylabel('True Positive Rate')\n",
    "plt.xlabel('False Positive Rate')\n",
    "plt.title('ROC Curve of Linear SVC (Dataset 2)')\n",
    "plt.show()"
   ]
  },
  {
   "cell_type": "code",
   "execution_count": null,
   "metadata": {
    "colab": {
     "base_uri": "https://localhost:8080/",
     "height": 295
    },
    "id": "b8PtuOdPvX7X",
    "outputId": "b28cf845-f01d-40d6-f519-c1e188fc2ff9"
   },
   "outputs": [],
   "source": [
    "plt.title('Receiver Operating Characteristic')\n",
    "plt.plot(fpr6, tpr6, 'b', label = 'AUC = %0.2f' % roc_auc6)\n",
    "plt.legend(loc = 'lower right')\n",
    "plt.plot([0, 1], [0, 1],'r--')\n",
    "plt.xlim([0, 1])\n",
    "plt.ylim([0, 1])\n",
    "plt.ylabel('True Positive Rate')\n",
    "plt.xlabel('False Positive Rate')\n",
    "plt.title('ROC Curve of Linear SVC (Dataset 3)')\n",
    "plt.show()"
   ]
  },
  {
   "cell_type": "markdown",
   "metadata": {
    "id": "x5SGuuTJvlZD"
   },
   "source": [
    "Overall, linear SVC performs slighly better on each of the datasets than 10NN does. It is the front-runner thus far. Next, we'll try Random Forests (see the next notebook for that)."
   ]
  },
  {
   "cell_type": "markdown",
   "metadata": {
    "id": "4814mzlt1d7s"
   },
   "source": [
    "**Runs on the Test Data**"
   ]
  },
  {
   "cell_type": "markdown",
   "metadata": {
    "id": "up-a7EudyWvi"
   },
   "source": [
    "Let's see how the two algorithms perform on Kaggle's test dataset. We first create two imputation versions of the test dataset (one using the iterative imputer, one using median fill), as there are some NA values in it.\n",
    "\n"
   ]
  },
  {
   "cell_type": "code",
   "execution_count": 96,
   "metadata": {
    "id": "T6D0bXqmyuFC"
   },
   "outputs": [],
   "source": [
    "testX = testX.iloc[:, 1:]"
   ]
  },
  {
   "cell_type": "code",
   "execution_count": 97,
   "metadata": {
    "id": "HyBNgwcqyUyx"
   },
   "outputs": [],
   "source": [
    "testXf1 = pd.DataFrame(imp_mean.transform(testX))\n",
    "testXf2 = testX.fillna(testX.median())"
   ]
  },
  {
   "cell_type": "markdown",
   "metadata": {
    "id": "yhj0C6n01wPT"
   },
   "source": [
    "Standardize both test datasets:"
   ]
  },
  {
   "cell_type": "code",
   "execution_count": 98,
   "metadata": {
    "id": "dlr_wJAzznwr"
   },
   "outputs": [],
   "source": [
    "testXf1 = (testXf1 - testXf1.mean())/testXf1.std()\n",
    "testXf2 = (testXf2 - testXf2.mean())/testXf2.std()"
   ]
  },
  {
   "cell_type": "markdown",
   "metadata": {
    "id": "PQ3az8Q31zIK"
   },
   "source": [
    "Fit the linear SVC learner to the third test dataset (iteratively imputed):"
   ]
  },
  {
   "cell_type": "code",
   "execution_count": null,
   "metadata": {
    "colab": {
     "base_uri": "https://localhost:8080/"
    },
    "id": "HC9gJ74hyyc9",
    "outputId": "9ca2e0f9-99ef-43f3-c0de-5ea3dbef64e5"
   },
   "outputs": [],
   "source": [
    "clf2.fit(trainX3, trainy3)"
   ]
  },
  {
   "cell_type": "markdown",
   "metadata": {
    "id": "__31e0z116Zj"
   },
   "source": [
    "Fit the results to the corresponding test dataset"
   ]
  },
  {
   "cell_type": "code",
   "execution_count": null,
   "metadata": {
    "id": "mlIBAhWZzghz"
   },
   "outputs": [],
   "source": [
    "y_scorest1 = pd.DataFrame(clf2.predict_proba(testXf1))"
   ]
  },
  {
   "cell_type": "markdown",
   "metadata": {
    "id": "6GKL6Rwc194Y"
   },
   "source": [
    "Submitting to Kaggle, we get an AUC of 0.77648. Slightly worse than what our initial results were saying, but not too far off, and not too bad. How about 10NN?"
   ]
  },
  {
   "cell_type": "code",
   "execution_count": 94,
   "metadata": {
    "colab": {
     "base_uri": "https://localhost:8080/"
    },
    "id": "bUE0g1hY2OXQ",
    "outputId": "522e83c0-fec4-4b3b-b635-a237fe58e1c0"
   },
   "outputs": [
    {
     "data": {
      "text/plain": [
       "KNeighborsClassifier(n_neighbors=6)"
      ]
     },
     "execution_count": 94,
     "metadata": {},
     "output_type": "execute_result"
    }
   ],
   "source": [
    "knn.fit(trainX3,trainy3)"
   ]
  },
  {
   "cell_type": "code",
   "execution_count": 99,
   "metadata": {
    "id": "0Y8sdGKN2jMR"
   },
   "outputs": [],
   "source": [
    "y_scorest2 = pd.DataFrame(knn.predict_proba(testXf1))"
   ]
  },
  {
   "cell_type": "markdown",
   "metadata": {
    "id": "R81QHJIu34h0"
   },
   "source": [
    "Kaggle gives us an AUC of 0.585 for 10NN, which is quite a bit less than what our initial results had given. However, this might be explained by outliers -- we were able to remove many of these for the training set, but not for Kaggle's test set -- which kNN is susceptible to, especially for low values of k. We'll wrap up this notebook by finding Kaggle's results for median imputation. For linear SVC:"
   ]
  },
  {
   "cell_type": "code",
   "execution_count": null,
   "metadata": {
    "colab": {
     "base_uri": "https://localhost:8080/"
    },
    "id": "Y5yiUn8y5RGC",
    "outputId": "d51fa7ea-7277-4ae7-d739-97635c4353c2"
   },
   "outputs": [],
   "source": [
    "clf2.fit(trainX2, trainy2)"
   ]
  },
  {
   "cell_type": "code",
   "execution_count": null,
   "metadata": {
    "id": "rUQKnFfR5Qle"
   },
   "outputs": [],
   "source": [
    "y_scorest3 = pd.DataFrame(clf2.predict_proba(testXf2))"
   ]
  },
  {
   "cell_type": "markdown",
   "metadata": {
    "id": "H9EgUtRS6Zyb"
   },
   "source": [
    "The AUC Kaggle gives is 0.775. For 10NN:"
   ]
  },
  {
   "cell_type": "code",
   "execution_count": null,
   "metadata": {
    "colab": {
     "base_uri": "https://localhost:8080/"
    },
    "id": "LX1C2zi46iIE",
    "outputId": "2eba2e23-7893-47a6-c769-80d55877f301"
   },
   "outputs": [],
   "source": [
    "knn.fit(trainX2,trainy2)"
   ]
  },
  {
   "cell_type": "code",
   "execution_count": null,
   "metadata": {
    "id": "SwQbf_k86lzc"
   },
   "outputs": [],
   "source": [
    "y_scorest4 = pd.DataFrame(knn.predict_proba(testXf2))"
   ]
  },
  {
   "cell_type": "markdown",
   "metadata": {
    "id": "VlS3NykH7V_5"
   },
   "source": [
    "The AUC is 0.587. "
   ]
  },
  {
   "cell_type": "code",
   "execution_count": 100,
   "metadata": {},
   "outputs": [
    {
     "data": {
      "text/html": [
       "<div>\n",
       "<style scoped>\n",
       "    .dataframe tbody tr th:only-of-type {\n",
       "        vertical-align: middle;\n",
       "    }\n",
       "\n",
       "    .dataframe tbody tr th {\n",
       "        vertical-align: top;\n",
       "    }\n",
       "\n",
       "    .dataframe thead th {\n",
       "        text-align: right;\n",
       "    }\n",
       "</style>\n",
       "<table border=\"1\" class=\"dataframe\">\n",
       "  <thead>\n",
       "    <tr style=\"text-align: right;\">\n",
       "      <th></th>\n",
       "      <th>0</th>\n",
       "      <th>1</th>\n",
       "    </tr>\n",
       "  </thead>\n",
       "  <tbody>\n",
       "    <tr>\n",
       "      <th>0</th>\n",
       "      <td>1.000000</td>\n",
       "      <td>0.000000</td>\n",
       "    </tr>\n",
       "    <tr>\n",
       "      <th>1</th>\n",
       "      <td>1.000000</td>\n",
       "      <td>0.000000</td>\n",
       "    </tr>\n",
       "    <tr>\n",
       "      <th>2</th>\n",
       "      <td>0.833333</td>\n",
       "      <td>0.166667</td>\n",
       "    </tr>\n",
       "    <tr>\n",
       "      <th>3</th>\n",
       "      <td>1.000000</td>\n",
       "      <td>0.000000</td>\n",
       "    </tr>\n",
       "    <tr>\n",
       "      <th>4</th>\n",
       "      <td>1.000000</td>\n",
       "      <td>0.000000</td>\n",
       "    </tr>\n",
       "    <tr>\n",
       "      <th>...</th>\n",
       "      <td>...</td>\n",
       "      <td>...</td>\n",
       "    </tr>\n",
       "    <tr>\n",
       "      <th>101498</th>\n",
       "      <td>1.000000</td>\n",
       "      <td>0.000000</td>\n",
       "    </tr>\n",
       "    <tr>\n",
       "      <th>101499</th>\n",
       "      <td>0.500000</td>\n",
       "      <td>0.500000</td>\n",
       "    </tr>\n",
       "    <tr>\n",
       "      <th>101500</th>\n",
       "      <td>1.000000</td>\n",
       "      <td>0.000000</td>\n",
       "    </tr>\n",
       "    <tr>\n",
       "      <th>101501</th>\n",
       "      <td>1.000000</td>\n",
       "      <td>0.000000</td>\n",
       "    </tr>\n",
       "    <tr>\n",
       "      <th>101502</th>\n",
       "      <td>1.000000</td>\n",
       "      <td>0.000000</td>\n",
       "    </tr>\n",
       "  </tbody>\n",
       "</table>\n",
       "<p>101503 rows × 2 columns</p>\n",
       "</div>"
      ],
      "text/plain": [
       "               0         1\n",
       "0       1.000000  0.000000\n",
       "1       1.000000  0.000000\n",
       "2       0.833333  0.166667\n",
       "3       1.000000  0.000000\n",
       "4       1.000000  0.000000\n",
       "...          ...       ...\n",
       "101498  1.000000  0.000000\n",
       "101499  0.500000  0.500000\n",
       "101500  1.000000  0.000000\n",
       "101501  1.000000  0.000000\n",
       "101502  1.000000  0.000000\n",
       "\n",
       "[101503 rows x 2 columns]"
      ]
     },
     "execution_count": 100,
     "metadata": {},
     "output_type": "execute_result"
    }
   ],
   "source": [
    "y_scorest2"
   ]
  }
 ],
 "metadata": {
  "colab": {
   "collapsed_sections": [],
   "name": "154Kaggle Part1.ipynb",
   "provenance": []
  },
  "kernelspec": {
   "display_name": "Python 3",
   "language": "python",
   "name": "python3"
  }
 },
 "nbformat": 4,
 "nbformat_minor": 1
}
